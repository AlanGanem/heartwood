{
 "cells": [
  {
   "cell_type": "code",
   "execution_count": 1,
   "id": "d2f63947",
   "metadata": {},
   "outputs": [],
   "source": [
    "#default_exp utils"
   ]
  },
  {
   "cell_type": "code",
   "execution_count": 3,
   "id": "3850e237",
   "metadata": {},
   "outputs": [],
   "source": [
    "#hide\n",
    "from nbdev.showdoc import *\n",
    "\n",
    "#%load_ext autoreload\n",
    "#%autoreload 2\n",
    "\n",
    "import sys\n",
    "sys.path.insert(0, '..') #appends project root to path in order to import project packages since `noteboks_dev` is not on the root #appends project root to path in order to import project packages since `noteboks_dev` is not on the root\n"
   ]
  },
  {
   "cell_type": "markdown",
   "id": "a99623c7",
   "metadata": {},
   "source": [
    "# Code"
   ]
  },
  {
   "cell_type": "code",
   "execution_count": 1,
   "id": "e52896a2-f7dd-4626-b76e-f5c0a932dbf7",
   "metadata": {},
   "outputs": [],
   "source": [
    "from scipy import stats"
   ]
  },
  {
   "cell_type": "code",
   "execution_count": 4,
   "id": "04e5623e",
   "metadata": {},
   "outputs": [
    {
     "name": "stderr",
     "output_type": "stream",
     "text": [
      "c:\\users\\user ambev\\desktop\\mypackages\\heartwood\\venv\\lib\\site-packages\\ipykernel_launcher.py:15: UserWarning: could not load sparse_dot_topn: No module named 'sparse_dot_topn'\n",
      "  from ipykernel import kernelapp as app\n"
     ]
    }
   ],
   "source": [
    "#export\n",
    "from warnings import warn\n",
    "from inspect import getmembers, isfunction\n",
    "import inspect\n",
    "\n",
    "import numpy as np\n",
    "from scipy import sparse\n",
    "\n",
    "from sklearn.base import BaseEstimator,TransformerMixin\n",
    "from sklearn.preprocessing import OneHotEncoder, OrdinalEncoder\n",
    "\n",
    "try:\n",
    "    from sparse_dot_topn import awesome_cossim_topn\n",
    "except Exception as e:\n",
    "    warn(f'could not load sparse_dot_topn: {e}')\n",
    "        "
   ]
  },
  {
   "cell_type": "code",
   "execution_count": 5,
   "id": "505f1baf",
   "metadata": {},
   "outputs": [],
   "source": [
    "#export\n",
    "#util funcs and classes\n",
    "\n",
    "\n",
    "def get_default_args(func):\n",
    "    '''THANKS TO mgilson at https://stackoverflow.com/questions/12627118/get-a-function-arguments-default-value'''\n",
    "    signature = inspect.signature(func)\n",
    "    return {\n",
    "        k: v.default\n",
    "        for k, v in signature.parameters.items()\n",
    "        if v.default is not inspect.Parameter.empty\n",
    "    }\n",
    "\n",
    "\n",
    "def inherit_docstrings(cls):\n",
    "    '''\n",
    "    thanks to Martijn Pieters♦ at https://stackoverflow.com/questions/17393176/python-3-method-docstring-inheritance-without-breaking-decorators-or-violating\n",
    "    '''\n",
    "    for name, func in getmembers(cls, isfunction):\n",
    "        if func.__doc__: continue\n",
    "        for parent in cls.__mro__[1:]:\n",
    "            if hasattr(parent, name):\n",
    "                func.__doc__ = getattr(parent, name).__doc__\n",
    "    return cls"
   ]
  },
  {
   "cell_type": "code",
   "execution_count": 6,
   "id": "fe85156b",
   "metadata": {},
   "outputs": [],
   "source": [
    "# export\n",
    "#TODO: implement minkowski distance with sparse_dot_topn\n",
    "#TODO: implement RBF distance \n",
    "\n",
    "#export\n",
    "def make_batches(arr, batch_size = 100):\n",
    "    '''make batches for batch query'''\n",
    "    #lst = [i for i in arr]\n",
    "\n",
    "    if arr.shape[0] < batch_size:\n",
    "        batches = [arr]\n",
    "    else:\n",
    "        n_bs = arr.shape[0] // batch_size\n",
    "        last_batch = arr.shape[0] - batch_size * n_bs\n",
    "        batches = []\n",
    "        i = 0\n",
    "        for i in range(n_bs):\n",
    "            yield arr[i * batch_size:(i + 1) * batch_size]\n",
    "\n",
    "        if last_batch:\n",
    "            yield arr[(i + 1) * batch_size:]\n",
    "\n",
    "def sim_matrix_to_idx_and_score(sim_matrix):\n",
    "    '''\n",
    "    returns list of indexes (col index of row vector) and scores (similarity value) for each row, given a similarity matrix\n",
    "    '''\n",
    "    scores = []\n",
    "    idxs = []\n",
    "    for row in sim_matrix:\n",
    "        idxs.append(row.nonzero()[-1])\n",
    "        scores.append(row.data)\n",
    "    \n",
    "    return idxs, scores\n",
    "\n",
    "def cosine_similarity(A, B, topn = 30, remove_diagonal = False, **kwargs):        \n",
    "    \n",
    "    A,B = sparsify(A,B)\n",
    "    A = normalize(A, norm  = 'l2').astype(np.float64)\n",
    "    B = normalize(B, norm  = 'l2').astype(np.float64)\n",
    "    dot = awesome_cossim_topn(A, B.T, ntop = topn, **kwargs)    \n",
    "    \n",
    "    if remove_diagonal:\n",
    "        dot.setdiag(0)\n",
    "        dot.eliminate_zeros()\n",
    "    \n",
    "    return dot\n",
    "\n",
    "\n",
    "def cosine_distance(A, B, topn = 30, remove_diagonal = False, **kwargs):    \n",
    "    \n",
    "    #calculate sim\n",
    "    dist = cosine_similarity(A, B, topn, remove_diagonal, **kwargs)\n",
    "    #calculate distance\n",
    "    dist.data = 1 - dist.data    \n",
    "    return dist"
   ]
  },
  {
   "cell_type": "code",
   "execution_count": null,
   "id": "d1326feb-91f2-4ae0-a740-7f3b60b8d142",
   "metadata": {},
   "outputs": [],
   "source": [
    "#export\n",
    "\n",
    "def sparse_dot_product(\n",
    "    A,\n",
    "    B,\n",
    "    ntop = 1,\n",
    "    lower_bound=0,\n",
    "    use_threads=False,\n",
    "    n_jobs=1,\n",
    "    return_best_ntop=False,\n",
    "    test_nnz_max=-1,\n",
    "):\n",
    "    \n",
    "    '''\n",
    "    flexible dot product function to work with or without sparse_dot_topn. In the absence of sparse_dot_topn, naive numpy dot product will be performed\n",
    "    \n",
    "    sparse_dot_topn.awesome_cossim_topn Docs:\n",
    "    \n",
    "    This function will return a matrix C in CSR format, where\n",
    "    C = [sorted top n results > lower_bound for each row of A * B].\n",
    "    If return_best_ntop=True then best_ntop\n",
    "    (the true maximum number of elements > lower_bound per row of A * B)\n",
    "    will also be returned in a tuple together with C as (C, best_ntop).\n",
    "\n",
    "    Input:\n",
    "        A and B: two CSR matrices\n",
    "        ntop: top n results\n",
    "        lower_bound: a threshold that the element of A*B must be greater than\n",
    "        use_threads: use multi-thread or not\n",
    "        n_jobs: number of thread, must be >= 1\n",
    "        return_best_ntop: (default: False) if True, will return best_ntop together \n",
    "                          with C as a tuple: (C, best_ntop)\n",
    "\n",
    "    Output:\n",
    "        C: result matrix (returned alone, if return_best_ntop=False)\n",
    "        best_ntop: The true maximum number of elements > lower_bound per row of \n",
    "                   A * B returned together with C as a tuple: (C, best_ntop). It is \n",
    "                   returned only if return_best_ntop=True.\n",
    "\n",
    "    N.B. if A and B are not in CSR format, they will be converted to CSR\n",
    "    '''\n",
    "    \n",
    "    MAX_BYTES = 100e6 #process dense arrays of maximum 100MB for dense numpy dot product\n",
    "    \n",
    "    if 'awesome_cossim_topn' in globals():\n",
    "        dot = awesome_cossim_topn(\n",
    "            A = A,\n",
    "            B = B,\n",
    "            ntop = ntop,\n",
    "            lower_bound=lower_bound,\n",
    "            use_threads=use_threads,\n",
    "            n_jobs=n_jobs,\n",
    "            return_best_ntop=return_best_ntop,\n",
    "            test_nnz_max=test_nnz_max,\n",
    "        )\n",
    "    else:\n",
    "        warn('sparse_dot_topn is not installed, this may cause performance issues in dot product calculations')\n",
    "        dot = A@B\n",
    "    \n",
    "    return dot"
   ]
  },
  {
   "cell_type": "code",
   "execution_count": 7,
   "id": "908dc813",
   "metadata": {},
   "outputs": [],
   "source": [
    "#export\n",
    "def similarity_plot(vector, query_matrix):\n",
    "    '''\n",
    "    plots similarity plots like in https://gdmarmerola.github.io/forest-embeddings/\n",
    "    '''\n",
    "    return\n"
   ]
  },
  {
   "cell_type": "code",
   "execution_count": 8,
   "id": "947a9458",
   "metadata": {},
   "outputs": [],
   "source": [
    "#export\n",
    "def sparsify(*arrs):\n",
    "    '''\n",
    "    makes input arrs sparse\n",
    "    '''\n",
    "    arrs = list(arrs)\n",
    "    for i in range(len(arrs)):        \n",
    "        if not sparse.issparse(arrs[i]):\n",
    "            arrs[i] = sparse.csr_matrix(arrs[i])\n",
    "    \n",
    "    return arrs\n",
    "\n",
    "def _robust_stack(blocks, stack_method = 'stack', **kwargs):\n",
    "    \n",
    "    if any(sparse.issparse(i) for i in blocks):\n",
    "        #handle sparse\n",
    "        stacked = getattr(sparse, stack_method)(blocks, **kwargs)\n",
    "    \n",
    "    else:        \n",
    "        #handle pandas\n",
    "        if all(hasattr(i, 'iloc') for i in blocks):\n",
    "            if stack_method == 'hstack':                \n",
    "                stacked = pd.concat(blocks, axis = 1)\n",
    "            else:\n",
    "                stacked = pd.concat(blocks, axis = 0)\n",
    "        \n",
    "        else:\n",
    "            #handle  numpy\n",
    "            stacked = getattr(np, stack_method)(blocks, **kwargs)\n",
    "    \n",
    "    return stacked\n",
    "\n",
    "def hstack(blocks, **kwargs):\n",
    "    return _robust_stack(blocks, stack_method = 'hstack', **kwargs)\n",
    "\n",
    "def vstack(blocks, **kwargs):\n",
    "    return _robust_stack(blocks, stack_method = 'vstack', **kwargs)\n",
    "\n",
    "def stack(blocks, **kwargs):\n",
    "    return _robust_stack(blocks, stack_method = 'stack', **kwargs)\n",
    "\n",
    "\n",
    "class RobustEncoder(BaseEstimator, TransformerMixin):\n",
    "    \n",
    "    def __init__(self,):            \n",
    "        '''\n",
    "        A robust one hot encoder. Always return the same amount of nonzero value sin each transformed row.\n",
    "        Has columns for unknown values\n",
    "        '''\n",
    "        return\n",
    "    \n",
    "    def fit(self, X, y = None, **kwawrgs):        \n",
    "        self.ordinalencoder_ = OrdinalEncoder(handle_unknown = 'use_encoded_value', unknown_value = -1).fit(X)\n",
    "        \n",
    "        X = self.ordinalencoder_.transform(X)\n",
    "        \n",
    "        categories = [np.arange(-1, len(cats)) for cats in self.ordinalencoder_.categories_]\n",
    "        self.onehotencoder_ = OneHotEncoder(categories = categories).fit(X)        \n",
    "        return self\n",
    "    \n",
    "    def transform(self, X, **kwargs):\n",
    "        X = self.ordinalencoder_.transform(X)\n",
    "        return self.onehotencoder_.transform(X)"
   ]
  },
  {
   "cell_type": "code",
   "execution_count": 9,
   "id": "cc939633",
   "metadata": {},
   "outputs": [],
   "source": [
    "#session of variables to testing sessions\n",
    "n_features = 7\n",
    "cardinality_per_feature = 1000\n",
    "n_classes = 5\n",
    "n_reg_dims = 2\n",
    "\n",
    "\n",
    "X = np.random.randint(0,cardinality_per_feature,(1000,n_features))\n",
    "\n",
    "y_class = np.random.randint(0,n_classes, 1000)\n",
    "y_reg = np.random.randn(1000,n_reg_dims)"
   ]
  },
  {
   "cell_type": "code",
   "execution_count": 10,
   "id": "171003a2",
   "metadata": {},
   "outputs": [
    {
     "data": {
      "text/plain": [
       "array([[0., 1., 0., 0., 0.],\n",
       "       [1., 0., 0., 0., 0.],\n",
       "       [1., 0., 0., 0., 0.],\n",
       "       [0., 0., 0., 1., 0.]])"
      ]
     },
     "execution_count": 10,
     "metadata": {},
     "output_type": "execute_result"
    }
   ],
   "source": [
    "x = [['aaa'], ['bbb'], ['ccc'], ['ddd']]\n",
    "enc = RobustEncoder().fit(x)\n",
    "\n",
    "enc.transform([['aaa'],['asdasd'], ['asd'],['ccc']]).A"
   ]
  },
  {
   "cell_type": "markdown",
   "id": "9247cad0",
   "metadata": {},
   "source": [
    "# Export"
   ]
  },
  {
   "cell_type": "code",
   "execution_count": 4,
   "id": "a75abab5",
   "metadata": {},
   "outputs": [
    {
     "name": "stdout",
     "output_type": "stream",
     "text": [
      "Converted cluster.ipynb.\n",
      "Converted index.ipynb.\n",
      "Converted kernel.ipynb.\n",
      "Converted utils.ipynb.\n"
     ]
    }
   ],
   "source": [
    "#hide\n",
    "from nbdev.export import notebook2script\n",
    "notebook2script()"
   ]
  }
 ],
 "metadata": {
  "kernelspec": {
   "display_name": "Python 3 (ipykernel)",
   "language": "python",
   "name": "python3"
  },
  "language_info": {
   "codemirror_mode": {
    "name": "ipython",
    "version": 3
   },
   "file_extension": ".py",
   "mimetype": "text/x-python",
   "name": "python",
   "nbconvert_exporter": "python",
   "pygments_lexer": "ipython3",
   "version": "3.7.12"
  },
  "latex_envs": {
   "LaTeX_envs_menu_present": true,
   "autoclose": false,
   "autocomplete": true,
   "bibliofile": "biblio.bib",
   "cite_by": "apalike",
   "current_citInitial": 1,
   "eqLabelWithNumbers": true,
   "eqNumInitial": 1,
   "hotkeys": {
    "equation": "Ctrl-E",
    "itemize": "Ctrl-I"
   },
   "labels_anchors": false,
   "latex_user_defs": false,
   "report_style_numbering": false,
   "user_envs_cfg": false
  },
  "toc": {
   "base_numbering": 1,
   "nav_menu": {},
   "number_sections": true,
   "sideBar": true,
   "skip_h1_title": false,
   "title_cell": "Table of Contents",
   "title_sidebar": "Contents",
   "toc_cell": false,
   "toc_position": {},
   "toc_section_display": true,
   "toc_window_display": false
  }
 },
 "nbformat": 4,
 "nbformat_minor": 5
}
