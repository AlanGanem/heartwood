{
 "cells": [
  {
   "cell_type": "markdown",
   "metadata": {},
   "source": [
    "## Nbdev import session"
   ]
  },
  {
   "cell_type": "code",
   "execution_count": 1,
   "metadata": {},
   "outputs": [],
   "source": [
    "#default_exp kernel"
   ]
  },
  {
   "cell_type": "code",
   "execution_count": 2,
   "metadata": {},
   "outputs": [],
   "source": [
    "#hide\n",
    "from nbdev.showdoc import *\n",
    "\n",
    "%load_ext autoreload\n",
    "%autoreload 2\n",
    "\n",
    "import sys\n",
    "sys.path.append('..') #appends project root to path in order to import project packages since `noteboks_dev` is not on the root\n"
   ]
  },
  {
   "cell_type": "markdown",
   "metadata": {},
   "source": [
    "# Code"
   ]
  },
  {
   "cell_type": "code",
   "execution_count": 3,
   "metadata": {},
   "outputs": [],
   "source": [
    "#export\n",
    "from sklearn.base import BaseEstimator, TransformerMixin\n",
    "from sklearn.preprocessing import normalize, OneHotEncoder, OrdinalEncoder\n",
    "from sklearn.ensemble import RandomTreesEmbedding, RandomForestClassifier\n",
    "\n",
    "from scipy import sparse\n",
    "import numpy as np\n",
    "\n",
    "from sparse_dot_topn import awesome_cossim_topn\n"
   ]
  },
  {
   "cell_type": "code",
   "execution_count": 4,
   "metadata": {},
   "outputs": [],
   "source": [
    "#session of variables to testing sessions\n",
    "n_features = 7\n",
    "cardinality_per_feature = 1000\n",
    "n_classes = 5\n",
    "n_reg_dims = 2\n",
    "\n",
    "\n",
    "X = np.random.randint(0,cardinality_per_feature,(1000,n_features))\n",
    "\n",
    "y_class = np.random.randint(0,n_classes, 1000)\n",
    "y_reg = np.random.randn(1000,n_reg_dims)"
   ]
  },
  {
   "cell_type": "code",
   "execution_count": 5,
   "metadata": {},
   "outputs": [],
   "source": [
    "#export\n",
    "def make_batches(arr, batch_size = 100):\n",
    "    '''make batches for batch query'''\n",
    "    #lst = [i for i in arr]\n",
    "\n",
    "    if arr.shape[0] < batch_size:\n",
    "        batches = [arr]\n",
    "    else:\n",
    "        n_bs = arr.shape[0] // batch_size\n",
    "        last_batch = arr.shape[0] - batch_size * n_bs\n",
    "        batches = []\n",
    "        i = 0\n",
    "        for i in range(n_bs):\n",
    "            yield arr[i * batch_size:(i + 1) * batch_size]\n",
    "\n",
    "        if last_batch:\n",
    "            yield arr[(i + 1) * batch_size:]\n",
    "    "
   ]
  },
  {
   "cell_type": "code",
   "execution_count": 6,
   "metadata": {},
   "outputs": [],
   "source": [
    "def similarity_plot(vector, query_matrix):\n",
    "    '''\n",
    "    plots similarity plots like in https://gdmarmerola.github.io/forest-embeddings/\n",
    "    '''\n",
    "    return"
   ]
  },
  {
   "cell_type": "code",
   "execution_count": 7,
   "metadata": {},
   "outputs": [],
   "source": [
    "# export\n",
    "def sparsify(*arrs):\n",
    "    '''\n",
    "    makes input arrs sparse\n",
    "    '''\n",
    "    arrs = list(arrs)\n",
    "    for i in range(len(arrs)):        \n",
    "        if not sparse.issparse(arrs[i]):\n",
    "            arrs[i] = sparse.csr_matrix(arrs[i])\n",
    "    \n",
    "    return arrs\n",
    "\n",
    "def sim_matrix_to_idx_and_score(sim_matrix):\n",
    "    '''\n",
    "    returns list of indexes (col index of row vector) and scores (similarity value) for each row, given a similarity matrix\n",
    "    '''\n",
    "    scores = []\n",
    "    idxs = []\n",
    "    for row in sim_matrix:\n",
    "        idxs.append(row.nonzero()[-1])\n",
    "        scores.append(row.data)\n",
    "    \n",
    "    return idxs, scores\n",
    "\n",
    "def cosine_similarity(A, B, topn = 30, remove_diagonal = False, **kwargs):        \n",
    "    \n",
    "    A,B = sparsify(A,B)\n",
    "    A = normalize(A, norm  = 'l2').astype(np.float64)\n",
    "    B = normalize(B, norm  = 'l2').astype(np.float64)\n",
    "    dot = awesome_cossim_topn(A, B.T, ntop = topn, **kwargs)    \n",
    "    \n",
    "    if remove_diagonal:\n",
    "        dot.setdiag(0)\n",
    "        dot.eliminate_zeros()\n",
    "    \n",
    "    return dot\n",
    "\n",
    "\n",
    "def cosine_distance(A, B, topn = 30, remove_diagonal = False, **kwargs):    \n",
    "    \n",
    "    #calculate sim\n",
    "    dist = cosine_similarity(A, B, topn, remove_diagonal, **kwargs)\n",
    "    #calculate distance\n",
    "    dist.data = 1 - dist.data    \n",
    "    return dist"
   ]
  },
  {
   "cell_type": "markdown",
   "metadata": {},
   "source": [
    "# jaccard similarity not supported (does it even make sense?)\n",
    "def jaccard_similarity(A, B, topn = 30, remove_diagonal = False, **kwargs):\n",
    "    '''\n",
    "    assumes that the ammount of non zero elements in the matrix are the same in all the columns\n",
    "    and they are all equal to 1\n",
    "    '''\n",
    "    A,B = sparsify(A,B)\n",
    "    \n",
    "    A = A.astype(np.float64)\n",
    "    B = B.astype(np.float64)\n",
    "    \n",
    "    intersection = awesome_cossim_topn(A, B.T, ntop = topn, **kwargs)\n",
    "    \n",
    "    nnz_a = A.getnnz(axis=1)\n",
    "    nnz_b = B.getnnz(axis=1)\n",
    "    unions = nnz_a + nnz_b[intersection.indices] - intersection.data\n",
    "    \n",
    "    intersection.data = intersection.data/unions\n",
    "    \n",
    "    if remove_diagonal:\n",
    "        intersection.setdiag(0)\n",
    "        intersection.eliminate_zeros()\n",
    "        \n",
    "    return intersection\n",
    "\n",
    "def jaccard_distance(A, B, topn = 30, remove_diagonal = False, **kwargs):\n",
    "    #calculate sim\n",
    "    dist = jaccard_similarity(A, B, topn, remove_diagonal, **kwargs)\n",
    "    #calculate distance\n",
    "    dist.data = 1 - dist.data    \n",
    "    return dist"
   ]
  },
  {
   "cell_type": "code",
   "execution_count": 8,
   "metadata": {},
   "outputs": [],
   "source": [
    "#export\n",
    "def _robust_stack(blocks, stack_method = 'stack', **kwargs):\n",
    "    \n",
    "    if any(sparse.issparse(i) for i in blocks):\n",
    "        stacked = getattr(sparse, stack_method)(blocks, **kwargs)\n",
    "    else:\n",
    "        stacked = getattr(np, stack_method)(blocks, **kwargs)\n",
    "    return stacked\n",
    "\n",
    "def hstack(blocks, **kwargs):\n",
    "    return _robust_stack(blocks, stack_method = 'hstack', **kwargs)\n",
    "\n",
    "def vstack(blocks, **kwargs):\n",
    "    return _robust_stack(blocks, stack_method = 'vstack', **kwargs)\n",
    "\n",
    "def stack(blocks, **kwargs):\n",
    "    return _robust_stack(blocks, stack_method = 'stack', **kwargs)\n",
    "\n",
    "\n",
    "class RobustEncoder(BaseEstimator, TransformerMixin):\n",
    "    \n",
    "    def __init__(self,):            \n",
    "        '''\n",
    "        A robust one hot encoder. Always return the same amount of nonzero value sin each transformed row.\n",
    "        Has columns for unknown values\n",
    "        '''\n",
    "        return\n",
    "    \n",
    "    def fit(self, X, y = None, **kwawrgs):        \n",
    "        self.ordinalencoder_ = OrdinalEncoder(handle_unknown = 'use_encoded_value', unknown_value = -1).fit(X)\n",
    "        \n",
    "        X = self.ordinalencoder_.transform(X)\n",
    "        \n",
    "        categories = [np.arange(-1, len(cats)) for cats in self.ordinalencoder_.categories_]\n",
    "        self.onehotencoder_ = OneHotEncoder(categories = categories).fit(X)        \n",
    "        return self\n",
    "    \n",
    "    def transform(self, X, **kwargs):\n",
    "        X = self.ordinalencoder_.transform(X)\n",
    "        return self.onehotencoder_.transform(X)"
   ]
  },
  {
   "cell_type": "code",
   "execution_count": 9,
   "metadata": {
    "scrolled": true
   },
   "outputs": [
    {
     "data": {
      "text/plain": [
       "array([[0., 1., 0., 0., 0.],\n",
       "       [1., 0., 0., 0., 0.],\n",
       "       [1., 0., 0., 0., 0.],\n",
       "       [0., 0., 0., 1., 0.]])"
      ]
     },
     "execution_count": 9,
     "metadata": {},
     "output_type": "execute_result"
    }
   ],
   "source": [
    "x = [['aaa'], ['bbb'], ['ccc'], ['ddd']]\n",
    "enc = RobustEncoder().fit(x)\n",
    "\n",
    "enc.transform([['aaa'],['asdasd'], ['asd'],['ccc']]).A"
   ]
  },
  {
   "cell_type": "code",
   "execution_count": 10,
   "metadata": {},
   "outputs": [],
   "source": [
    "#export\n",
    "class EstimatorKernel(BaseEstimator, TransformerMixin):    \n",
    "    '''\n",
    "    creates a kernel with some specified estimator.\n",
    "    projection method will be performed according to projection_method.\n",
    "    projection method can be a string refering to estimators method used to project,\n",
    "    or a callable, that receives the estimator and X (vector to be projected) as the inputs.\n",
    "    should return the projections of X according to estimator.\n",
    "    norm will normalize vectors in matrices prior to applying dot products.\n",
    "    '''\n",
    "    def __init__(self, estimator, projection_method = 'predict_proba', norm = 'l2'):\n",
    "        '''\n",
    "        creates a kernel with some specified estimator.\n",
    "        projection method will be performed according to projection_method.\n",
    "        projection method can be a string refering to estimators method used to project,\n",
    "        or a callable, that receives the estimator and X (vector to be projected) as the inputs.\n",
    "        should return the projections of X according to estimator.\n",
    "        norm will normalize vectors in matrices prior to applying dot products.\n",
    "        '''\n",
    "        self.estimator = estimator\n",
    "        self.projection_method = projection_method\n",
    "        self.norm = norm\n",
    "    \n",
    "    def transform(self, X):\n",
    "        '''\n",
    "        projects X into new space, according to projection_method\n",
    "        '''\n",
    "        if callable(self.projection_method):\n",
    "            return self.projection_method(self.estimator, X)\n",
    "        else:\n",
    "            return getattr(self.estimator, self.projection_method)(X)            \n",
    "    \n",
    "    def fit(self, X, y = None, save_values = None, **kwargs):\n",
    "        '''\n",
    "        X is the feature space,\n",
    "        y is used only for supervised Kernels\n",
    "        save_values are values associated with each \"Embeding\". During transform,\n",
    "        the values of saved_values are retrieved according to indexes returned by Nearest Neighbor query        \n",
    "        '''\n",
    "        if not save_values is None:\n",
    "            if not len(save_values) == len(X):\n",
    "                raise IndexError(f'X and save_values must have the same shape along the first dimension. Got {X.shape} and {save_values.shape}')\n",
    "        \n",
    "        self.estimator.fit(X, y, **kwargs)\n",
    "        \n",
    "        self.train_projection_space_ = self.transform(X) #saves projection space of X in train\n",
    "        self.train_projection_values_ = save_values #saves values to be retrieved by some query\n",
    "        return self\n",
    "        \n",
    "    def similarity_matrix(self, A = None, B = None,  topn = 30, remove_diagonal = False, lower_bound = 0.0, metric = 'cosine'):\n",
    "        '''\n",
    "        reeturns pariwise_similarity of X and self.train_projection_space_\n",
    "        if X is None, returns pariwise similarity of self.train_projection_space_ with itself\n",
    "        '''\n",
    "        \n",
    "        METRICS = {\n",
    "            'cosine':cosine_similarity,            \n",
    "        }\n",
    "        \n",
    "        \n",
    "        if A is None:\n",
    "            A = self.train_projection_space_\n",
    "        else:\n",
    "            #transform to space\n",
    "            A = self.transform(A)\n",
    "        \n",
    "        if B is None:\n",
    "            B = self.train_projection_space_\n",
    "        else:\n",
    "            #transform to space\n",
    "            B = self.transform(B)\n",
    "        \n",
    "        try:\n",
    "            return METRICS[metric.lower()](\n",
    "                #normalize first\n",
    "                normalize(A, norm = self.norm, axis = 0),\n",
    "                normalize(B, norm = self.norm, axis = 0),\n",
    "                topn,\n",
    "                remove_diagonal,\n",
    "                lower_bound = lower_bound\n",
    "            )\n",
    "        except KeyError:\n",
    "            raise AttributeError(f'metric should be one of {list(METRICS)}, got {metric}')\n",
    "            \n",
    "    def similarity_idxs(self, A = None, B = None, topn = 30, remove_diagonal = False, lower_bound = 0.0, alpha = None, metric = 'cosine'):\n",
    "        '''\n",
    "        performs dot product based similarity of normalized X versus normalized self.train_projection_space_.\n",
    "        if X is None, returns similarity of self.train_projection_space_ within itself\n",
    "        \n",
    "        returns two lists, one of indexes and other of scores, the indexes refer to self.train_projecetion_space_ rows\n",
    "        \n",
    "        alpha is a concentration factor, such that similarity_values = similarity_values**alpha\n",
    "        alpha > 1 implies spreading points appart\n",
    "        0 < alpha < 1 implies bringing points closer together\n",
    "        '''        \n",
    "            \n",
    "        sim_matrix = self.similarity_matrix(A, B, topn, remove_diagonal, lower_bound, metric)\n",
    "        idxs, sim = sim_matrix_to_idx_and_score(sim_matrix)\n",
    "        \n",
    "        #use alpha concentration factor\n",
    "        if not alpha is None:\n",
    "            sim = [s**alpha for s in sim]\n",
    "        \n",
    "        return idxs, sim\n",
    "    \n",
    "    def similarity(self, A = None, B = None, topn = 30, remove_diagonal = False, lower_bound = 0.0, alpha = None, metric = 'cosine'):\n",
    "        '''\n",
    "        same as similarity, but instead of returning indexes, returns values in self.train_projection_values_\n",
    "        '''\n",
    "        idxs, sim = self.similarity_idxs(A, B, topn, remove_diagonal, lower_bound, alpha, metric)\n",
    "        values = [self.train_projection_values_[idx] for idx in idxs]\n",
    "        return values, sim\n",
    "    \n",
    "    def update_space(self, X, save_values):\n",
    "        '''\n",
    "        updates self.train_projection_space_ and self.train_projection_values_ with new data.\n",
    "        new values are found running self.transform on X\n",
    "        '''\n",
    "        X = self.transform(X)\n",
    "        \n",
    "        self.train_projection_space_ = vstack([self.train_projection_space_, X])\n",
    "        self.train_projection_values_ = vstack([self.train_projection_values_, save_values])\n",
    "        return self"
   ]
  },
  {
   "cell_type": "code",
   "execution_count": 11,
   "metadata": {},
   "outputs": [],
   "source": [
    "#export\n",
    "class ForestKernel(EstimatorKernel):\n",
    "    '''\n",
    "    A Space tranformation performed based on Forest transformations.\n",
    "    Can be supervised or not (CARTs, RandomTreeEmbeddings, Boosted trees...)\n",
    "    \n",
    "    the transformed space can be defined and the `decision_path` space or `terminal_nodes`\n",
    "    space.\n",
    "    '''             \n",
    "    \n",
    "    def __init__(self, estimator, embedding_space = 'decision_path'):\n",
    "        self.embedding_space = embedding_space        \n",
    "        super().__init__(estimator, projection_method = None, norm='l2')\n",
    "        return\n",
    "            \n",
    "    def transform(self, X):\n",
    "        \n",
    "        if self.embedding_space == 'decision_path':\n",
    "            \n",
    "            X, n_nodes_ptr = self.estimator.decision_path(X)\n",
    "            \n",
    "        elif self.embedding_space == 'terminal_nodes':\n",
    "            \n",
    "            if hasattr(self, 'one_hot_node_embeddings_encoder_'):\n",
    "                X = self.estimator.apply(X)\n",
    "                X = self.one_hot_node_embeddings_encoder_.transform(X)\n",
    "\n",
    "            else:\n",
    "                X = self.estimator.apply(X)\n",
    "                self.one_hot_node_embeddings_encoder_ = OneHotEncoder().fit(X)\n",
    "                X = self.one_hot_node_embeddings_encoder_.transform(X)\n",
    "                \n",
    "        else:\n",
    "            raise ValueError(f'embedding_space should be one of [\"decision_path\",\"terminal_nodes\"], got {self.embedding_space}')\n",
    "            \n",
    "        return X "
   ]
  },
  {
   "cell_type": "code",
   "execution_count": 12,
   "metadata": {},
   "outputs": [],
   "source": [
    "topn = 50\n",
    "es1 = 'decision_path'\n",
    "es2 = 'terminal_nodes'\n",
    "alpha1 = 1.1\n",
    "alpha2 = 0.9"
   ]
  },
  {
   "cell_type": "code",
   "execution_count": 13,
   "metadata": {},
   "outputs": [
    {
     "data": {
      "text/plain": [
       "ForestKernel(embedding_space='terminal_nodes',\n",
       "             estimator=RandomTreesEmbedding(random_state=42))"
      ]
     },
     "execution_count": 13,
     "metadata": {},
     "output_type": "execute_result"
    }
   ],
   "source": [
    "kernel1 = ForestKernel(RandomTreesEmbedding(random_state = 42), embedding_space = es1)\n",
    "kernel2 = ForestKernel(RandomTreesEmbedding(random_state = 42), embedding_space = es2)\n",
    "\n",
    "kernel1.fit(X,)\n",
    "kernel2.fit(X,)"
   ]
  },
  {
   "cell_type": "code",
   "execution_count": 14,
   "metadata": {},
   "outputs": [],
   "source": [
    "\n",
    "_, sims1 = kernel1.similarity_idxs(X, remove_diagonal = True, topn = topn, alpha = alpha1)\n",
    "_, sims2 = kernel2.similarity_idxs(X, remove_diagonal = True, topn = topn, alpha = alpha2)\n"
   ]
  },
  {
   "cell_type": "code",
   "execution_count": 15,
   "metadata": {},
   "outputs": [
    {
     "name": "stderr",
     "output_type": "stream",
     "text": [
      "C:\\Anaconda3\\lib\\site-packages\\seaborn\\_decorators.py:43: FutureWarning: Pass the following variables as keyword args: x, y. From version 0.12, the only valid positional argument will be `data`, and passing other arguments without an explicit keyword will result in an error or misinterpretation.\n",
      "  FutureWarning\n",
      "No handles with labels found to put in legend.\n"
     ]
    },
    {
     "data": {
      "text/plain": [
       "<matplotlib.legend.Legend at 0x1ad94a76448>"
      ]
     },
     "execution_count": 15,
     "metadata": {},
     "output_type": "execute_result"
    },
    {
     "data": {
      "image/png": "[encoded data removed]",
      "text/plain": [
       "<Figure size 432x432 with 3 Axes>"
      ]
     },
     "metadata": {
      "needs_background": "light"
     },
     "output_type": "display_data"
    }
   ],
   "source": [
    "import seaborn as sns\n",
    "import matplotlib.pyplot as plt\n",
    "\n",
    "sims1 = np.stack(sims1).flatten()\n",
    "sims2 = np.stack(sims2).flatten()\n",
    "\n",
    "#sns.distplot(dp_sims, label = fr'{es1} $\\alpha$ = {alpha1}')\n",
    "#sns.distplot(tn_sims, label = fr'{es2} $\\alpha$ = {alpha2}')\n",
    "plot = sns.jointplot(sims1, sims2, joint_kws = dict(alpha = 0.05))\n",
    "plot.ax_joint.set_title(f'joint distribution of top {topn} similarities for all X')\n",
    "plot.ax_joint.set_xlabel(fr'{es1} $\\alpha$ = {alpha1}')\n",
    "plot.ax_joint.set_ylabel(fr'{es2} $\\alpha$ = {alpha2}')\n",
    "plot.ax_joint.plot([0,1], [0,1], color = 'orange')\n",
    "plt.legend()"
   ]
  },
  {
   "cell_type": "markdown",
   "metadata": {},
   "source": [
    "points are closer to each other in decision_path space rather than in temrinal_nodes sapce"
   ]
  },
  {
   "cell_type": "code",
   "execution_count": 16,
   "metadata": {},
   "outputs": [],
   "source": [
    "decision, ptr = RandomTreesEmbedding().fit(X).decision_path(X)"
   ]
  },
  {
   "cell_type": "code",
   "execution_count": 17,
   "metadata": {},
   "outputs": [],
   "source": [
    "#export\n",
    "class CategoricalKernel(EstimatorKernel):    \n",
    "    '''\n",
    "    Linear model kernel for high cardinality categorical variables.\n",
    "    kernel space is defined by liner model coefficients indexed by the nonzero elements\n",
    "    of X\n",
    "    '''\n",
    "    def __init__(self, estimator, norm = 'l2', use_encoder = False):\n",
    "        self.use_encoder = use_encoder\n",
    "        super().__init__(estimator, norm)\n",
    "        return    \n",
    "    \n",
    "    def fit(self, X, y = None, save_values = None, **kwargs):\n",
    "        \n",
    "        if self.use_encoder:\n",
    "            self.estimator = make_pipeline(RobustEncoder(), self.estimator)\n",
    "                \n",
    "        return super().fit(X, y, save_values, **kwargs)\n",
    "            \n",
    "    \n",
    "    def transform(self, X):\n",
    "        '''\n",
    "        multiplies sparse vector to its coef_ s from linear model.\n",
    "        if multiclass classification, the number of final features will be\n",
    "        n*original_n_features_before_one_hot_encoding\n",
    "        '''\n",
    "        \n",
    "        if self.use_encoder:\n",
    "            coefs = self.estimator[-1].coef_\n",
    "            X = self.estimator[0].transform(X)\n",
    "        else:            \n",
    "            coefs = self.estimator.coef_\n",
    "                \n",
    "        if len(coefs.shape) == 1:\n",
    "            coefs = coefs.reshape(1,-1)\n",
    "        \n",
    "        embeddings = []\n",
    "        for dim in range(coefs.shape[0]):\n",
    "            #assumes all rows have the same ammount of nonzero elements\n",
    "            dim_embeddings = coefs[dim, X.nonzero()[1]].reshape(X.shape[0], len(X[0].data))                        \n",
    "            embeddings.append(dim_embeddings)\n",
    "                \n",
    "        return hstack(embeddings)\n",
    "    "
   ]
  },
  {
   "cell_type": "code",
   "execution_count": 21,
   "metadata": {},
   "outputs": [
    {
     "data": {
      "text/plain": [
       "((1000, 35), (1000, 14))"
      ]
     },
     "execution_count": 21,
     "metadata": {},
     "output_type": "execute_result"
    }
   ],
   "source": [
    "from sklearn.linear_model import LinearRegression, LogisticRegression\n",
    "from sklearn.pipeline import make_pipeline\n",
    "\n",
    "kernel_class = CategoricalKernel(LogisticRegression(), use_encoder = True)\n",
    "kernel_reg = CategoricalKernel(LinearRegression(), use_encoder = True)\n",
    "kernel_class.fit(X,y_class)\n",
    "kernel_reg.fit(X,y_reg)\n",
    "\n",
    "kernel_class.transform(X).shape, kernel_reg.transform(X).shape"
   ]
  },
  {
   "cell_type": "markdown",
   "metadata": {},
   "source": [
    "# Export"
   ]
  },
  {
   "cell_type": "code",
   "execution_count": 23,
   "metadata": {},
   "outputs": [
    {
     "name": "stdout",
     "output_type": "stream",
     "text": [
      "Converted index.ipynb.\n",
      "Converted kernel.ipynb.\n"
     ]
    }
   ],
   "source": [
    "#hide\n",
    "from nbdev.export import notebook2script\n",
    "notebook2script()"
   ]
  }
 ],
 "metadata": {
  "kernelspec": {
   "display_name": "Python 3",
   "language": "python",
   "name": "python3"
  },
  "language_info": {
   "codemirror_mode": {
    "name": "ipython",
    "version": 3
   },
   "file_extension": ".py",
   "mimetype": "text/x-python",
   "name": "python",
   "nbconvert_exporter": "python",
   "pygments_lexer": "ipython3",
   "version": "3.7.6"
  },
  "latex_envs": {
   "LaTeX_envs_menu_present": true,
   "autoclose": false,
   "autocomplete": true,
   "bibliofile": "biblio.bib",
   "cite_by": "apalike",
   "current_citInitial": 1,
   "eqLabelWithNumbers": true,
   "eqNumInitial": 1,
   "hotkeys": {
    "equation": "Ctrl-E",
    "itemize": "Ctrl-I"
   },
   "labels_anchors": false,
   "latex_user_defs": false,
   "report_style_numbering": false,
   "user_envs_cfg": false
  },
  "toc": {
   "base_numbering": 1,
   "nav_menu": {},
   "number_sections": true,
   "sideBar": true,
   "skip_h1_title": false,
   "title_cell": "Table of Contents",
   "title_sidebar": "Contents",
   "toc_cell": false,
   "toc_position": {},
   "toc_section_display": true,
   "toc_window_display": false
  }
 },
 "nbformat": 4,
 "nbformat_minor": 4
}
