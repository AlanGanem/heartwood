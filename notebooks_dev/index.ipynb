{
 "cells": [
  {
   "cell_type": "markdown",
   "metadata": {},
   "source": [
    "# Heartwood\n",
    "> Supervised metric and not metric space learning methods for multiple purposes in Machine Learning"
   ]
  },
  {
   "cell_type": "markdown",
   "metadata": {},
   "source": [
    "## What is it for?\n",
    "\n",
    "- [X] supervised similarity matching\n",
    "- [X] nomparametric density estimation\n",
    "- [X] ensemble learning"
   ]
  },
  {
   "cell_type": "markdown",
   "metadata": {},
   "source": [
    "## Install"
   ]
  },
  {
   "cell_type": "markdown",
   "metadata": {},
   "source": [
    "`pip install your_project_name`"
   ]
  },
  {
   "cell_type": "markdown",
   "metadata": {},
   "source": [
    "## How to use"
   ]
  },
  {
   "cell_type": "code",
   "execution_count": 3,
   "metadata": {},
   "outputs": [],
   "source": [
    "#hide\n",
    "import sys\n",
    "sys.path.append('..')"
   ]
  },
  {
   "cell_type": "code",
   "execution_count": 4,
   "metadata": {},
   "outputs": [
    {
     "name": "stderr",
     "output_type": "stream",
     "text": [
      "..\\heartwood\\utils.py:20: UserWarning: could not load sparse_dot_topn: No module named 'sparse_dot_topn'\n",
      "  warn(f'could not load sparse_dot_topn: {e}')\n"
     ]
    }
   ],
   "source": [
    "import seaborn as sns\n",
    "from sklearn.datasets import fetch_california_housing\n",
    "\n",
    "from heartwood.kernel import JaccardForestKernel, MLPKernel, DiscretizedTargetKernel, make_bimodal_assymetric_regression"
   ]
  },
  {
   "cell_type": "code",
   "execution_count": 5,
   "metadata": {},
   "outputs": [],
   "source": [
    "X_bimodal, y_bimodal = make_bimodal_assymetric_regression(10_000)"
   ]
  },
  {
   "cell_type": "code",
   "execution_count": 6,
   "metadata": {},
   "outputs": [],
   "source": [
    "housing = fetch_california_housing(as_frame = True)['frame']"
   ]
  },
  {
   "cell_type": "code",
   "execution_count": 7,
   "metadata": {},
   "outputs": [],
   "source": [
    "numerical_cols = housing.columns[:-1]\n",
    "target_col = housing.columns[-1]"
   ]
  },
  {
   "cell_type": "code",
   "execution_count": 8,
   "metadata": {},
   "outputs": [
    {
     "data": {
      "text/html": [
       "<div>\n",
       "<style scoped>\n",
       "    .dataframe tbody tr th:only-of-type {\n",
       "        vertical-align: middle;\n",
       "    }\n",
       "\n",
       "    .dataframe tbody tr th {\n",
       "        vertical-align: top;\n",
       "    }\n",
       "\n",
       "    .dataframe thead th {\n",
       "        text-align: right;\n",
       "    }\n",
       "</style>\n",
       "<table border=\"1\" class=\"dataframe\">\n",
       "  <thead>\n",
       "    <tr style=\"text-align: right;\">\n",
       "      <th></th>\n",
       "      <th>MedInc</th>\n",
       "      <th>HouseAge</th>\n",
       "      <th>AveRooms</th>\n",
       "      <th>AveBedrms</th>\n",
       "      <th>Population</th>\n",
       "      <th>AveOccup</th>\n",
       "      <th>Latitude</th>\n",
       "      <th>Longitude</th>\n",
       "      <th>MedHouseVal</th>\n",
       "    </tr>\n",
       "  </thead>\n",
       "  <tbody>\n",
       "    <tr>\n",
       "      <th>0</th>\n",
       "      <td>8.3252</td>\n",
       "      <td>41.0</td>\n",
       "      <td>6.984127</td>\n",
       "      <td>1.023810</td>\n",
       "      <td>322.0</td>\n",
       "      <td>2.555556</td>\n",
       "      <td>37.88</td>\n",
       "      <td>-122.23</td>\n",
       "      <td>4.526</td>\n",
       "    </tr>\n",
       "    <tr>\n",
       "      <th>1</th>\n",
       "      <td>8.3014</td>\n",
       "      <td>21.0</td>\n",
       "      <td>6.238137</td>\n",
       "      <td>0.971880</td>\n",
       "      <td>2401.0</td>\n",
       "      <td>2.109842</td>\n",
       "      <td>37.86</td>\n",
       "      <td>-122.22</td>\n",
       "      <td>3.585</td>\n",
       "    </tr>\n",
       "    <tr>\n",
       "      <th>2</th>\n",
       "      <td>7.2574</td>\n",
       "      <td>52.0</td>\n",
       "      <td>8.288136</td>\n",
       "      <td>1.073446</td>\n",
       "      <td>496.0</td>\n",
       "      <td>2.802260</td>\n",
       "      <td>37.85</td>\n",
       "      <td>-122.24</td>\n",
       "      <td>3.521</td>\n",
       "    </tr>\n",
       "    <tr>\n",
       "      <th>3</th>\n",
       "      <td>5.6431</td>\n",
       "      <td>52.0</td>\n",
       "      <td>5.817352</td>\n",
       "      <td>1.073059</td>\n",
       "      <td>558.0</td>\n",
       "      <td>2.547945</td>\n",
       "      <td>37.85</td>\n",
       "      <td>-122.25</td>\n",
       "      <td>3.413</td>\n",
       "    </tr>\n",
       "    <tr>\n",
       "      <th>4</th>\n",
       "      <td>3.8462</td>\n",
       "      <td>52.0</td>\n",
       "      <td>6.281853</td>\n",
       "      <td>1.081081</td>\n",
       "      <td>565.0</td>\n",
       "      <td>2.181467</td>\n",
       "      <td>37.85</td>\n",
       "      <td>-122.25</td>\n",
       "      <td>3.422</td>\n",
       "    </tr>\n",
       "    <tr>\n",
       "      <th>...</th>\n",
       "      <td>...</td>\n",
       "      <td>...</td>\n",
       "      <td>...</td>\n",
       "      <td>...</td>\n",
       "      <td>...</td>\n",
       "      <td>...</td>\n",
       "      <td>...</td>\n",
       "      <td>...</td>\n",
       "      <td>...</td>\n",
       "    </tr>\n",
       "    <tr>\n",
       "      <th>20635</th>\n",
       "      <td>1.5603</td>\n",
       "      <td>25.0</td>\n",
       "      <td>5.045455</td>\n",
       "      <td>1.133333</td>\n",
       "      <td>845.0</td>\n",
       "      <td>2.560606</td>\n",
       "      <td>39.48</td>\n",
       "      <td>-121.09</td>\n",
       "      <td>0.781</td>\n",
       "    </tr>\n",
       "    <tr>\n",
       "      <th>20636</th>\n",
       "      <td>2.5568</td>\n",
       "      <td>18.0</td>\n",
       "      <td>6.114035</td>\n",
       "      <td>1.315789</td>\n",
       "      <td>356.0</td>\n",
       "      <td>3.122807</td>\n",
       "      <td>39.49</td>\n",
       "      <td>-121.21</td>\n",
       "      <td>0.771</td>\n",
       "    </tr>\n",
       "    <tr>\n",
       "      <th>20637</th>\n",
       "      <td>1.7000</td>\n",
       "      <td>17.0</td>\n",
       "      <td>5.205543</td>\n",
       "      <td>1.120092</td>\n",
       "      <td>1007.0</td>\n",
       "      <td>2.325635</td>\n",
       "      <td>39.43</td>\n",
       "      <td>-121.22</td>\n",
       "      <td>0.923</td>\n",
       "    </tr>\n",
       "    <tr>\n",
       "      <th>20638</th>\n",
       "      <td>1.8672</td>\n",
       "      <td>18.0</td>\n",
       "      <td>5.329513</td>\n",
       "      <td>1.171920</td>\n",
       "      <td>741.0</td>\n",
       "      <td>2.123209</td>\n",
       "      <td>39.43</td>\n",
       "      <td>-121.32</td>\n",
       "      <td>0.847</td>\n",
       "    </tr>\n",
       "    <tr>\n",
       "      <th>20639</th>\n",
       "      <td>2.3886</td>\n",
       "      <td>16.0</td>\n",
       "      <td>5.254717</td>\n",
       "      <td>1.162264</td>\n",
       "      <td>1387.0</td>\n",
       "      <td>2.616981</td>\n",
       "      <td>39.37</td>\n",
       "      <td>-121.24</td>\n",
       "      <td>0.894</td>\n",
       "    </tr>\n",
       "  </tbody>\n",
       "</table>\n",
       "<p>20640 rows × 9 columns</p>\n",
       "</div>"
      ],
      "text/plain": [
       "       MedInc  HouseAge  AveRooms  AveBedrms  Population  AveOccup  Latitude  \\\n",
       "0      8.3252      41.0  6.984127   1.023810       322.0  2.555556     37.88   \n",
       "1      8.3014      21.0  6.238137   0.971880      2401.0  2.109842     37.86   \n",
       "2      7.2574      52.0  8.288136   1.073446       496.0  2.802260     37.85   \n",
       "3      5.6431      52.0  5.817352   1.073059       558.0  2.547945     37.85   \n",
       "4      3.8462      52.0  6.281853   1.081081       565.0  2.181467     37.85   \n",
       "...       ...       ...       ...        ...         ...       ...       ...   \n",
       "20635  1.5603      25.0  5.045455   1.133333       845.0  2.560606     39.48   \n",
       "20636  2.5568      18.0  6.114035   1.315789       356.0  3.122807     39.49   \n",
       "20637  1.7000      17.0  5.205543   1.120092      1007.0  2.325635     39.43   \n",
       "20638  1.8672      18.0  5.329513   1.171920       741.0  2.123209     39.43   \n",
       "20639  2.3886      16.0  5.254717   1.162264      1387.0  2.616981     39.37   \n",
       "\n",
       "       Longitude  MedHouseVal  \n",
       "0        -122.23        4.526  \n",
       "1        -122.22        3.585  \n",
       "2        -122.24        3.521  \n",
       "3        -122.25        3.413  \n",
       "4        -122.25        3.422  \n",
       "...          ...          ...  \n",
       "20635    -121.09        0.781  \n",
       "20636    -121.21        0.771  \n",
       "20637    -121.22        0.923  \n",
       "20638    -121.32        0.847  \n",
       "20639    -121.24        0.894  \n",
       "\n",
       "[20640 rows x 9 columns]"
      ]
     },
     "execution_count": 8,
     "metadata": {},
     "output_type": "execute_result"
    }
   ],
   "source": [
    "housing"
   ]
  },
  {
   "cell_type": "code",
   "execution_count": 9,
   "metadata": {},
   "outputs": [
    {
     "name": "stderr",
     "output_type": "stream",
     "text": [
      "c:\\users\\user ambev\\desktop\\mypackages\\heartwood\\venv\\lib\\site-packages\\seaborn\\distributions.py:2619: FutureWarning: `distplot` is a deprecated function and will be removed in a future version. Please adapt your code to use either `displot` (a figure-level function with similar flexibility) or `histplot` (an axes-level function for histograms).\n",
      "  warnings.warn(msg, FutureWarning)\n"
     ]
    },
    {
     "data": {
      "text/plain": [
       "<AxesSubplot:xlabel='MedHouseVal', ylabel='Density'>"
      ]
     },
     "execution_count": 9,
     "metadata": {},
     "output_type": "execute_result"
    },
    {
     "data": {
      "image/png": "[encoded data removed]",
      "text/plain": [
       "<Figure size 432x288 with 1 Axes>"
      ]
     },
     "metadata": {
      "needs_background": "light"
     },
     "output_type": "display_data"
    }
   ],
   "source": [
    "sns.distplot(housing.iloc[:,-1])"
   ]
  },
  {
   "cell_type": "markdown",
   "metadata": {},
   "source": [
    "# JaccardForestKernel\n",
    "> uses forest node embeddings and jaccard similarity to sample points"
   ]
  },
  {
   "cell_type": "code",
   "execution_count": 60,
   "metadata": {},
   "outputs": [],
   "source": [
    "from sklearn.ensemble import ExtraTreesRegressor, RandomForestRegressor\n",
    "from sklearn.model_selection import train_test_split\n",
    "\n",
    "learner = JaccardForestKernel(\n",
    "    RandomForestRegressor(n_jobs = -1),\n",
    "    fit_neighbors_index = True,\n",
    "    verbose = True\n",
    ")"
   ]
  },
  {
   "cell_type": "code",
   "execution_count": 61,
   "metadata": {},
   "outputs": [],
   "source": [
    "housing_train, housing_test = train_test_split(housing, train_size = 0.8)"
   ]
  },
  {
   "cell_type": "code",
   "execution_count": 62,
   "metadata": {},
   "outputs": [
    {
     "data": {
      "text/plain": [
       "JaccardForestKernel(estimator=RandomForestRegressor(n_jobs=-1), verbose=True)"
      ]
     },
     "execution_count": 62,
     "metadata": {},
     "output_type": "execute_result"
    }
   ],
   "source": [
    "learner.fit(\n",
    "    housing_train[numerical_cols],\n",
    "    housing_train[target_col],\n",
    "    save_values = housing_train\n",
    ")"
   ]
  },
  {
   "cell_type": "code",
   "execution_count": 63,
   "metadata": {},
   "outputs": [
    {
     "name": "stdout",
     "output_type": "stream",
     "text": [
      "kNN time total=1.645799 (sec), per query=0.000399 (sec), per query adjusted for thread number=0.001595 (sec)\n"
     ]
    }
   ],
   "source": [
    "queries = learner.query(housing_test[numerical_cols])"
   ]
  },
  {
   "cell_type": "code",
   "execution_count": 91,
   "metadata": {},
   "outputs": [
    {
     "name": "stderr",
     "output_type": "stream",
     "text": [
      "c:\\users\\user ambev\\desktop\\mypackages\\heartwood\\venv\\lib\\site-packages\\ipykernel_launcher.py:6: SettingWithCopyWarning: \n",
      "A value is trying to be set on a copy of a slice from a DataFrame.\n",
      "Try using .loc[row_indexer,col_indexer] = value instead\n",
      "\n",
      "See the caveats in the documentation: https://pandas.pydata.org/pandas-docs/stable/user_guide/indexing.html#returning-a-view-versus-a-copy\n",
      "  \n",
      "c:\\users\\user ambev\\desktop\\mypackages\\heartwood\\venv\\lib\\site-packages\\seaborn\\distributions.py:2619: FutureWarning: `distplot` is a deprecated function and will be removed in a future version. Please adapt your code to use either `displot` (a figure-level function with similar flexibility) or `histplot` (an axes-level function for histograms).\n",
      "  warnings.warn(msg, FutureWarning)\n"
     ]
    },
    {
     "data": {
      "text/plain": [
       "<matplotlib.lines.Line2D at 0x1782ede9708>"
      ]
     },
     "execution_count": 91,
     "metadata": {},
     "output_type": "execute_result"
    },
    {
     "data": {
      "image/png": "[encoded data removed]",
      "text/plain": [
       "<Figure size 432x288 with 1 Axes>"
      ]
     },
     "metadata": {
      "needs_background": "light"
     },
     "output_type": "display_data"
    }
   ],
   "source": [
    "import numpy as np\n",
    "import matplotlib.pyplot as plt\n",
    "\n",
    "idx = np.random.choice(len(housing_test))\n",
    "q = queries[0][idx]\n",
    "q['similarity'] = queries[1][idx]\n",
    "\n",
    "sns.distplot(q[target_col])\n",
    "plt.axvline(housing_test.iloc[idx][target_col], color = 'r')\n"
   ]
  },
  {
   "cell_type": "code",
   "execution_count": 92,
   "metadata": {},
   "outputs": [
    {
     "data": {
      "text/html": [
       "<div>\n",
       "<style scoped>\n",
       "    .dataframe tbody tr th:only-of-type {\n",
       "        vertical-align: middle;\n",
       "    }\n",
       "\n",
       "    .dataframe tbody tr th {\n",
       "        vertical-align: top;\n",
       "    }\n",
       "\n",
       "    .dataframe thead th {\n",
       "        text-align: right;\n",
       "    }\n",
       "</style>\n",
       "<table border=\"1\" class=\"dataframe\">\n",
       "  <thead>\n",
       "    <tr style=\"text-align: right;\">\n",
       "      <th></th>\n",
       "      <th>MedInc</th>\n",
       "      <th>HouseAge</th>\n",
       "      <th>AveRooms</th>\n",
       "      <th>AveBedrms</th>\n",
       "      <th>Population</th>\n",
       "      <th>AveOccup</th>\n",
       "      <th>Latitude</th>\n",
       "      <th>Longitude</th>\n",
       "      <th>MedHouseVal</th>\n",
       "      <th>similarity</th>\n",
       "    </tr>\n",
       "  </thead>\n",
       "  <tbody>\n",
       "    <tr>\n",
       "      <th>2552</th>\n",
       "      <td>2.2227</td>\n",
       "      <td>30.0</td>\n",
       "      <td>5.278552</td>\n",
       "      <td>1.019499</td>\n",
       "      <td>990.0</td>\n",
       "      <td>2.757660</td>\n",
       "      <td>40.77</td>\n",
       "      <td>-124.17</td>\n",
       "      <td>0.813</td>\n",
       "      <td>0.907104</td>\n",
       "    </tr>\n",
       "    <tr>\n",
       "      <th>2648</th>\n",
       "      <td>2.2357</td>\n",
       "      <td>30.0</td>\n",
       "      <td>5.152406</td>\n",
       "      <td>1.050802</td>\n",
       "      <td>996.0</td>\n",
       "      <td>2.663102</td>\n",
       "      <td>40.50</td>\n",
       "      <td>-124.10</td>\n",
       "      <td>0.723</td>\n",
       "      <td>0.913043</td>\n",
       "    </tr>\n",
       "    <tr>\n",
       "      <th>2636</th>\n",
       "      <td>2.0938</td>\n",
       "      <td>39.0</td>\n",
       "      <td>5.594340</td>\n",
       "      <td>1.122642</td>\n",
       "      <td>539.0</td>\n",
       "      <td>2.542453</td>\n",
       "      <td>40.59</td>\n",
       "      <td>-124.15</td>\n",
       "      <td>0.796</td>\n",
       "      <td>0.924731</td>\n",
       "    </tr>\n",
       "    <tr>\n",
       "      <th>2575</th>\n",
       "      <td>2.2478</td>\n",
       "      <td>31.0</td>\n",
       "      <td>5.123810</td>\n",
       "      <td>1.100000</td>\n",
       "      <td>1259.0</td>\n",
       "      <td>2.997619</td>\n",
       "      <td>40.80</td>\n",
       "      <td>-124.13</td>\n",
       "      <td>0.811</td>\n",
       "      <td>0.924731</td>\n",
       "    </tr>\n",
       "    <tr>\n",
       "      <th>19788</th>\n",
       "      <td>2.4792</td>\n",
       "      <td>26.0</td>\n",
       "      <td>6.129121</td>\n",
       "      <td>1.156593</td>\n",
       "      <td>987.0</td>\n",
       "      <td>2.711538</td>\n",
       "      <td>40.71</td>\n",
       "      <td>-122.95</td>\n",
       "      <td>0.888</td>\n",
       "      <td>0.941799</td>\n",
       "    </tr>\n",
       "    <tr>\n",
       "      <th>2650</th>\n",
       "      <td>2.3947</td>\n",
       "      <td>38.0</td>\n",
       "      <td>5.536160</td>\n",
       "      <td>1.062344</td>\n",
       "      <td>1041.0</td>\n",
       "      <td>2.596010</td>\n",
       "      <td>40.44</td>\n",
       "      <td>-124.09</td>\n",
       "      <td>0.705</td>\n",
       "      <td>0.947368</td>\n",
       "    </tr>\n",
       "    <tr>\n",
       "      <th>19763</th>\n",
       "      <td>2.2500</td>\n",
       "      <td>30.0</td>\n",
       "      <td>5.861862</td>\n",
       "      <td>1.192192</td>\n",
       "      <td>961.0</td>\n",
       "      <td>2.885886</td>\n",
       "      <td>40.02</td>\n",
       "      <td>-122.18</td>\n",
       "      <td>0.682</td>\n",
       "      <td>0.963731</td>\n",
       "    </tr>\n",
       "    <tr>\n",
       "      <th>2662</th>\n",
       "      <td>2.0870</td>\n",
       "      <td>33.0</td>\n",
       "      <td>6.141975</td>\n",
       "      <td>1.216049</td>\n",
       "      <td>1221.0</td>\n",
       "      <td>2.512346</td>\n",
       "      <td>40.12</td>\n",
       "      <td>-123.82</td>\n",
       "      <td>0.824</td>\n",
       "      <td>0.969072</td>\n",
       "    </tr>\n",
       "    <tr>\n",
       "      <th>18794</th>\n",
       "      <td>2.1250</td>\n",
       "      <td>22.0</td>\n",
       "      <td>6.856688</td>\n",
       "      <td>1.468153</td>\n",
       "      <td>903.0</td>\n",
       "      <td>2.875796</td>\n",
       "      <td>40.40</td>\n",
       "      <td>-122.76</td>\n",
       "      <td>1.232</td>\n",
       "      <td>0.969072</td>\n",
       "    </tr>\n",
       "    <tr>\n",
       "      <th>1860</th>\n",
       "      <td>2.1336</td>\n",
       "      <td>19.0</td>\n",
       "      <td>5.893993</td>\n",
       "      <td>1.144876</td>\n",
       "      <td>841.0</td>\n",
       "      <td>2.971731</td>\n",
       "      <td>41.92</td>\n",
       "      <td>-124.16</td>\n",
       "      <td>0.750</td>\n",
       "      <td>0.974359</td>\n",
       "    </tr>\n",
       "  </tbody>\n",
       "</table>\n",
       "</div>"
      ],
      "text/plain": [
       "       MedInc  HouseAge  AveRooms  AveBedrms  Population  AveOccup  Latitude  \\\n",
       "2552   2.2227      30.0  5.278552   1.019499       990.0  2.757660     40.77   \n",
       "2648   2.2357      30.0  5.152406   1.050802       996.0  2.663102     40.50   \n",
       "2636   2.0938      39.0  5.594340   1.122642       539.0  2.542453     40.59   \n",
       "2575   2.2478      31.0  5.123810   1.100000      1259.0  2.997619     40.80   \n",
       "19788  2.4792      26.0  6.129121   1.156593       987.0  2.711538     40.71   \n",
       "2650   2.3947      38.0  5.536160   1.062344      1041.0  2.596010     40.44   \n",
       "19763  2.2500      30.0  5.861862   1.192192       961.0  2.885886     40.02   \n",
       "2662   2.0870      33.0  6.141975   1.216049      1221.0  2.512346     40.12   \n",
       "18794  2.1250      22.0  6.856688   1.468153       903.0  2.875796     40.40   \n",
       "1860   2.1336      19.0  5.893993   1.144876       841.0  2.971731     41.92   \n",
       "\n",
       "       Longitude  MedHouseVal  similarity  \n",
       "2552     -124.17        0.813    0.907104  \n",
       "2648     -124.10        0.723    0.913043  \n",
       "2636     -124.15        0.796    0.924731  \n",
       "2575     -124.13        0.811    0.924731  \n",
       "19788    -122.95        0.888    0.941799  \n",
       "2650     -124.09        0.705    0.947368  \n",
       "19763    -122.18        0.682    0.963731  \n",
       "2662     -123.82        0.824    0.969072  \n",
       "18794    -122.76        1.232    0.969072  \n",
       "1860     -124.16        0.750    0.974359  "
      ]
     },
     "execution_count": 92,
     "metadata": {},
     "output_type": "execute_result"
    }
   ],
   "source": [
    "q[:10]"
   ]
  },
  {
   "cell_type": "markdown",
   "metadata": {},
   "source": [
    "# DiscretizedTargetKernel\n",
    "> conditional target distribution could be bimodal, making regular regression faill. discretizing and running a classification might help"
   ]
  },
  {
   "cell_type": "code",
   "execution_count": 94,
   "metadata": {},
   "outputs": [],
   "source": [
    "from sklearn.linear_model import LogisticRegression\n",
    "from sklearn.pipeline import make_pipeline\n",
    "from sklearn.preprocessing import RobustScaler"
   ]
  },
  {
   "cell_type": "code",
   "execution_count": 97,
   "metadata": {},
   "outputs": [],
   "source": [
    "disc_learner = DiscretizedTargetKernel(\n",
    "    estimator = make_pipeline(RobustScaler(), LogisticRegression()),\n",
    "    n_bins = 15,\n",
    "    strategy = 'uniform'\n",
    ")\n"
   ]
  },
  {
   "cell_type": "code",
   "execution_count": 99,
   "metadata": {},
   "outputs": [
    {
     "name": "stderr",
     "output_type": "stream",
     "text": [
      "c:\\users\\user ambev\\desktop\\mypackages\\heartwood\\venv\\lib\\site-packages\\sklearn\\utils\\validation.py:993: DataConversionWarning: A column-vector y was passed when a 1d array was expected. Please change the shape of y to (n_samples, ), for example using ravel().\n",
      "  y = column_or_1d(y, warn=True)\n",
      "c:\\users\\user ambev\\desktop\\mypackages\\heartwood\\venv\\lib\\site-packages\\sklearn\\linear_model\\_logistic.py:818: ConvergenceWarning: lbfgs failed to converge (status=1):\n",
      "STOP: TOTAL NO. of ITERATIONS REACHED LIMIT.\n",
      "\n",
      "Increase the number of iterations (max_iter) or scale the data as shown in:\n",
      "    https://scikit-learn.org/stable/modules/preprocessing.html\n",
      "Please also refer to the documentation for alternative solver options:\n",
      "    https://scikit-learn.org/stable/modules/linear_model.html#logistic-regression\n",
      "  extra_warning_msg=_LOGISTIC_SOLVER_CONVERGENCE_MSG,\n"
     ]
    },
    {
     "data": {
      "text/plain": [
       "DiscretizedTargetKernel(estimator=Pipeline(steps=[('robustscaler',\n",
       "                                                   RobustScaler()),\n",
       "                                                  ('logisticregression',\n",
       "                                                   LogisticRegression())]),\n",
       "                        n_bins=15, strategy='uniform')"
      ]
     },
     "execution_count": 99,
     "metadata": {},
     "output_type": "execute_result"
    }
   ],
   "source": [
    "disc_learner.fit(\n",
    "    housing_train[numerical_cols],\n",
    "    housing_train[[target_col]],\n",
    "    save_values = housing_train\n",
    ")"
   ]
  },
  {
   "cell_type": "code",
   "execution_count": 100,
   "metadata": {},
   "outputs": [],
   "source": [
    "disc_queries = disc_learner.query(housing_test[numerical_cols])"
   ]
  },
  {
   "cell_type": "code",
   "execution_count": 148,
   "metadata": {},
   "outputs": [
    {
     "name": "stderr",
     "output_type": "stream",
     "text": [
      "c:\\users\\user ambev\\desktop\\mypackages\\heartwood\\venv\\lib\\site-packages\\ipykernel_launcher.py:3: SettingWithCopyWarning: \n",
      "A value is trying to be set on a copy of a slice from a DataFrame.\n",
      "Try using .loc[row_indexer,col_indexer] = value instead\n",
      "\n",
      "See the caveats in the documentation: https://pandas.pydata.org/pandas-docs/stable/user_guide/indexing.html#returning-a-view-versus-a-copy\n",
      "  This is separate from the ipykernel package so we can avoid doing imports until\n",
      "c:\\users\\user ambev\\desktop\\mypackages\\heartwood\\venv\\lib\\site-packages\\seaborn\\distributions.py:2619: FutureWarning: `distplot` is a deprecated function and will be removed in a future version. Please adapt your code to use either `displot` (a figure-level function with similar flexibility) or `histplot` (an axes-level function for histograms).\n",
      "  warnings.warn(msg, FutureWarning)\n"
     ]
    },
    {
     "data": {
      "text/plain": [
       "<matplotlib.lines.Line2D at 0x178341561c8>"
      ]
     },
     "execution_count": 148,
     "metadata": {},
     "output_type": "execute_result"
    },
    {
     "data": {
      "image/png": "[encoded data removed]",
      "text/plain": [
       "<Figure size 432x288 with 1 Axes>"
      ]
     },
     "metadata": {
      "needs_background": "light"
     },
     "output_type": "display_data"
    }
   ],
   "source": [
    "idx = np.random.choice(len(housing_test))\n",
    "q = disc_queries[0][idx]\n",
    "q['kldivergence'] = disc_queries[1][idx]\n",
    "\n",
    "sns.distplot(q[target_col])\n",
    "plt.axvline(housing_test.iloc[idx][target_col], color = 'r')\n"
   ]
  },
  {
   "cell_type": "code",
   "execution_count": 149,
   "metadata": {},
   "outputs": [
    {
     "data": {
      "text/html": [
       "<div>\n",
       "<style scoped>\n",
       "    .dataframe tbody tr th:only-of-type {\n",
       "        vertical-align: middle;\n",
       "    }\n",
       "\n",
       "    .dataframe tbody tr th {\n",
       "        vertical-align: top;\n",
       "    }\n",
       "\n",
       "    .dataframe thead th {\n",
       "        text-align: right;\n",
       "    }\n",
       "</style>\n",
       "<table border=\"1\" class=\"dataframe\">\n",
       "  <thead>\n",
       "    <tr style=\"text-align: right;\">\n",
       "      <th></th>\n",
       "      <th>MedInc</th>\n",
       "      <th>HouseAge</th>\n",
       "      <th>AveRooms</th>\n",
       "      <th>AveBedrms</th>\n",
       "      <th>Population</th>\n",
       "      <th>AveOccup</th>\n",
       "      <th>Latitude</th>\n",
       "      <th>Longitude</th>\n",
       "      <th>MedHouseVal</th>\n",
       "      <th>kldivergence</th>\n",
       "    </tr>\n",
       "  </thead>\n",
       "  <tbody>\n",
       "    <tr>\n",
       "      <th>12947</th>\n",
       "      <td>4.8661</td>\n",
       "      <td>24.0</td>\n",
       "      <td>6.358456</td>\n",
       "      <td>1.053309</td>\n",
       "      <td>1336.0</td>\n",
       "      <td>2.455882</td>\n",
       "      <td>38.64</td>\n",
       "      <td>-121.28</td>\n",
       "      <td>1.862</td>\n",
       "      <td>0.002280</td>\n",
       "    </tr>\n",
       "    <tr>\n",
       "      <th>19666</th>\n",
       "      <td>4.6010</td>\n",
       "      <td>34.0</td>\n",
       "      <td>6.320329</td>\n",
       "      <td>0.979466</td>\n",
       "      <td>1226.0</td>\n",
       "      <td>2.517454</td>\n",
       "      <td>37.51</td>\n",
       "      <td>-120.83</td>\n",
       "      <td>1.500</td>\n",
       "      <td>0.002638</td>\n",
       "    </tr>\n",
       "    <tr>\n",
       "      <th>16450</th>\n",
       "      <td>4.1190</td>\n",
       "      <td>38.0</td>\n",
       "      <td>5.506876</td>\n",
       "      <td>0.982318</td>\n",
       "      <td>1223.0</td>\n",
       "      <td>2.402750</td>\n",
       "      <td>38.14</td>\n",
       "      <td>-121.28</td>\n",
       "      <td>1.288</td>\n",
       "      <td>0.003778</td>\n",
       "    </tr>\n",
       "    <tr>\n",
       "      <th>12731</th>\n",
       "      <td>5.0508</td>\n",
       "      <td>32.0</td>\n",
       "      <td>7.575688</td>\n",
       "      <td>1.100917</td>\n",
       "      <td>1185.0</td>\n",
       "      <td>2.717890</td>\n",
       "      <td>38.59</td>\n",
       "      <td>-121.36</td>\n",
       "      <td>2.257</td>\n",
       "      <td>0.003865</td>\n",
       "    </tr>\n",
       "    <tr>\n",
       "      <th>20559</th>\n",
       "      <td>4.7222</td>\n",
       "      <td>30.0</td>\n",
       "      <td>6.424691</td>\n",
       "      <td>0.990123</td>\n",
       "      <td>981.0</td>\n",
       "      <td>2.422222</td>\n",
       "      <td>38.67</td>\n",
       "      <td>-121.79</td>\n",
       "      <td>1.672</td>\n",
       "      <td>0.004230</td>\n",
       "    </tr>\n",
       "    <tr>\n",
       "      <th>12727</th>\n",
       "      <td>4.4643</td>\n",
       "      <td>35.0</td>\n",
       "      <td>5.710059</td>\n",
       "      <td>0.970414</td>\n",
       "      <td>805.0</td>\n",
       "      <td>2.381657</td>\n",
       "      <td>38.60</td>\n",
       "      <td>-121.36</td>\n",
       "      <td>1.330</td>\n",
       "      <td>0.004297</td>\n",
       "    </tr>\n",
       "    <tr>\n",
       "      <th>1534</th>\n",
       "      <td>4.2625</td>\n",
       "      <td>37.0</td>\n",
       "      <td>5.925795</td>\n",
       "      <td>0.950530</td>\n",
       "      <td>689.0</td>\n",
       "      <td>2.434629</td>\n",
       "      <td>37.89</td>\n",
       "      <td>-122.05</td>\n",
       "      <td>3.106</td>\n",
       "      <td>0.004309</td>\n",
       "    </tr>\n",
       "    <tr>\n",
       "      <th>19057</th>\n",
       "      <td>4.2813</td>\n",
       "      <td>33.0</td>\n",
       "      <td>6.340426</td>\n",
       "      <td>1.117021</td>\n",
       "      <td>212.0</td>\n",
       "      <td>2.255319</td>\n",
       "      <td>38.13</td>\n",
       "      <td>-121.84</td>\n",
       "      <td>0.813</td>\n",
       "      <td>0.004316</td>\n",
       "    </tr>\n",
       "    <tr>\n",
       "      <th>18894</th>\n",
       "      <td>4.0938</td>\n",
       "      <td>37.0</td>\n",
       "      <td>5.979592</td>\n",
       "      <td>1.046382</td>\n",
       "      <td>1325.0</td>\n",
       "      <td>2.458256</td>\n",
       "      <td>38.13</td>\n",
       "      <td>-122.24</td>\n",
       "      <td>1.269</td>\n",
       "      <td>0.005845</td>\n",
       "    </tr>\n",
       "    <tr>\n",
       "      <th>2040</th>\n",
       "      <td>4.9196</td>\n",
       "      <td>27.0</td>\n",
       "      <td>6.184783</td>\n",
       "      <td>0.906522</td>\n",
       "      <td>1219.0</td>\n",
       "      <td>2.650000</td>\n",
       "      <td>36.73</td>\n",
       "      <td>-119.67</td>\n",
       "      <td>1.179</td>\n",
       "      <td>0.006963</td>\n",
       "    </tr>\n",
       "  </tbody>\n",
       "</table>\n",
       "</div>"
      ],
      "text/plain": [
       "       MedInc  HouseAge  AveRooms  AveBedrms  Population  AveOccup  Latitude  \\\n",
       "12947  4.8661      24.0  6.358456   1.053309      1336.0  2.455882     38.64   \n",
       "19666  4.6010      34.0  6.320329   0.979466      1226.0  2.517454     37.51   \n",
       "16450  4.1190      38.0  5.506876   0.982318      1223.0  2.402750     38.14   \n",
       "12731  5.0508      32.0  7.575688   1.100917      1185.0  2.717890     38.59   \n",
       "20559  4.7222      30.0  6.424691   0.990123       981.0  2.422222     38.67   \n",
       "12727  4.4643      35.0  5.710059   0.970414       805.0  2.381657     38.60   \n",
       "1534   4.2625      37.0  5.925795   0.950530       689.0  2.434629     37.89   \n",
       "19057  4.2813      33.0  6.340426   1.117021       212.0  2.255319     38.13   \n",
       "18894  4.0938      37.0  5.979592   1.046382      1325.0  2.458256     38.13   \n",
       "2040   4.9196      27.0  6.184783   0.906522      1219.0  2.650000     36.73   \n",
       "\n",
       "       Longitude  MedHouseVal  kldivergence  \n",
       "12947    -121.28        1.862      0.002280  \n",
       "19666    -120.83        1.500      0.002638  \n",
       "16450    -121.28        1.288      0.003778  \n",
       "12731    -121.36        2.257      0.003865  \n",
       "20559    -121.79        1.672      0.004230  \n",
       "12727    -121.36        1.330      0.004297  \n",
       "1534     -122.05        3.106      0.004309  \n",
       "19057    -121.84        0.813      0.004316  \n",
       "18894    -122.24        1.269      0.005845  \n",
       "2040     -119.67        1.179      0.006963  "
      ]
     },
     "execution_count": 149,
     "metadata": {},
     "output_type": "execute_result"
    }
   ],
   "source": [
    "q[:10]"
   ]
  },
  {
   "cell_type": "code",
   "execution_count": null,
   "metadata": {},
   "outputs": [],
   "source": []
  }
 ],
 "metadata": {
  "kernelspec": {
   "display_name": "Python 3 (ipykernel)",
   "language": "python",
   "name": "python3"
  },
  "language_info": {
   "codemirror_mode": {
    "name": "ipython",
    "version": 3
   },
   "file_extension": ".py",
   "mimetype": "text/x-python",
   "name": "python",
   "nbconvert_exporter": "python",
   "pygments_lexer": "ipython3",
   "version": "3.7.12"
  }
 },
 "nbformat": 4,
 "nbformat_minor": 4
}
