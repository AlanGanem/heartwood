{
 "cells": [
  {
   "cell_type": "markdown",
   "metadata": {},
   "source": [
    "# Heartwood\n",
    "> Supervised metric and not metric space learning methods for multiple purposes in Machine Learning"
   ]
  },
  {
   "cell_type": "markdown",
   "metadata": {},
   "source": [
    "# TODO:\n",
    "- [ ] Create SVD + KMeans Pipeline for clustering\n",
    "- [X] Create Louvain + Dot Product in the node space pipeline for inference time"
   ]
  },
  {
   "cell_type": "markdown",
   "metadata": {},
   "source": [
    "## What is it for?\n",
    "\n",
    "- [X] supervised similarity matching\n",
    "- [X] nomparametric density estimation\n",
    "- [X] ensemble learning\n",
    "- [X] Heterogeneous space clustering\n",
    "- [X] Heterogeneous space embeddings\n",
    "- [X] Heterogeneous space supervised embeddings"
   ]
  },
  {
   "cell_type": "markdown",
   "metadata": {},
   "source": [
    "## Install"
   ]
  },
  {
   "cell_type": "markdown",
   "metadata": {},
   "source": [
    "`pip install your_project_name`"
   ]
  },
  {
   "cell_type": "markdown",
   "metadata": {},
   "source": [
    "## How to use"
   ]
  },
  {
   "cell_type": "code",
   "execution_count": 1,
   "metadata": {},
   "outputs": [],
   "source": [
    "#hide\n",
    "import sys\n",
    "sys.path.append('..')\n",
    "\n",
    "import warnings\n",
    "warnings.filterwarnings('ignore')"
   ]
  },
  {
   "cell_type": "code",
   "execution_count": 27,
   "metadata": {},
   "outputs": [],
   "source": [
    "import seaborn as sns\n",
    "from sklearn.datasets import fetch_california_housing\n",
    "\n",
    "from heartwood.kernel import JaccardForestKernel, MLPKernel, DiscretizedTargetKernel, make_bimodal_assymetric_regression\n",
    "from heartwood.utils import sparse_dot_product"
   ]
  },
  {
   "cell_type": "code",
   "execution_count": 41,
   "metadata": {},
   "outputs": [],
   "source": [
    "X_bimodal, y_bimodal = make_bimodal_assymetric_regression(10_000)"
   ]
  },
  {
   "cell_type": "code",
   "execution_count": 42,
   "metadata": {},
   "outputs": [],
   "source": [
    "housing = fetch_california_housing(as_frame = True)['frame']"
   ]
  },
  {
   "cell_type": "code",
   "execution_count": 43,
   "metadata": {},
   "outputs": [],
   "source": [
    "numerical_cols = housing.columns[:-1]\n",
    "target_col = housing.columns[-1]"
   ]
  },
  {
   "cell_type": "code",
   "execution_count": 44,
   "metadata": {},
   "outputs": [
    {
     "data": {
      "text/html": [
       "<div>\n",
       "<style scoped>\n",
       "    .dataframe tbody tr th:only-of-type {\n",
       "        vertical-align: middle;\n",
       "    }\n",
       "\n",
       "    .dataframe tbody tr th {\n",
       "        vertical-align: top;\n",
       "    }\n",
       "\n",
       "    .dataframe thead th {\n",
       "        text-align: right;\n",
       "    }\n",
       "</style>\n",
       "<table border=\"1\" class=\"dataframe\">\n",
       "  <thead>\n",
       "    <tr style=\"text-align: right;\">\n",
       "      <th></th>\n",
       "      <th>MedInc</th>\n",
       "      <th>HouseAge</th>\n",
       "      <th>AveRooms</th>\n",
       "      <th>AveBedrms</th>\n",
       "      <th>Population</th>\n",
       "      <th>AveOccup</th>\n",
       "      <th>Latitude</th>\n",
       "      <th>Longitude</th>\n",
       "      <th>MedHouseVal</th>\n",
       "    </tr>\n",
       "  </thead>\n",
       "  <tbody>\n",
       "    <tr>\n",
       "      <th>0</th>\n",
       "      <td>8.3252</td>\n",
       "      <td>41.0</td>\n",
       "      <td>6.984127</td>\n",
       "      <td>1.023810</td>\n",
       "      <td>322.0</td>\n",
       "      <td>2.555556</td>\n",
       "      <td>37.88</td>\n",
       "      <td>-122.23</td>\n",
       "      <td>4.526</td>\n",
       "    </tr>\n",
       "    <tr>\n",
       "      <th>1</th>\n",
       "      <td>8.3014</td>\n",
       "      <td>21.0</td>\n",
       "      <td>6.238137</td>\n",
       "      <td>0.971880</td>\n",
       "      <td>2401.0</td>\n",
       "      <td>2.109842</td>\n",
       "      <td>37.86</td>\n",
       "      <td>-122.22</td>\n",
       "      <td>3.585</td>\n",
       "    </tr>\n",
       "    <tr>\n",
       "      <th>2</th>\n",
       "      <td>7.2574</td>\n",
       "      <td>52.0</td>\n",
       "      <td>8.288136</td>\n",
       "      <td>1.073446</td>\n",
       "      <td>496.0</td>\n",
       "      <td>2.802260</td>\n",
       "      <td>37.85</td>\n",
       "      <td>-122.24</td>\n",
       "      <td>3.521</td>\n",
       "    </tr>\n",
       "    <tr>\n",
       "      <th>3</th>\n",
       "      <td>5.6431</td>\n",
       "      <td>52.0</td>\n",
       "      <td>5.817352</td>\n",
       "      <td>1.073059</td>\n",
       "      <td>558.0</td>\n",
       "      <td>2.547945</td>\n",
       "      <td>37.85</td>\n",
       "      <td>-122.25</td>\n",
       "      <td>3.413</td>\n",
       "    </tr>\n",
       "    <tr>\n",
       "      <th>4</th>\n",
       "      <td>3.8462</td>\n",
       "      <td>52.0</td>\n",
       "      <td>6.281853</td>\n",
       "      <td>1.081081</td>\n",
       "      <td>565.0</td>\n",
       "      <td>2.181467</td>\n",
       "      <td>37.85</td>\n",
       "      <td>-122.25</td>\n",
       "      <td>3.422</td>\n",
       "    </tr>\n",
       "    <tr>\n",
       "      <th>...</th>\n",
       "      <td>...</td>\n",
       "      <td>...</td>\n",
       "      <td>...</td>\n",
       "      <td>...</td>\n",
       "      <td>...</td>\n",
       "      <td>...</td>\n",
       "      <td>...</td>\n",
       "      <td>...</td>\n",
       "      <td>...</td>\n",
       "    </tr>\n",
       "    <tr>\n",
       "      <th>20635</th>\n",
       "      <td>1.5603</td>\n",
       "      <td>25.0</td>\n",
       "      <td>5.045455</td>\n",
       "      <td>1.133333</td>\n",
       "      <td>845.0</td>\n",
       "      <td>2.560606</td>\n",
       "      <td>39.48</td>\n",
       "      <td>-121.09</td>\n",
       "      <td>0.781</td>\n",
       "    </tr>\n",
       "    <tr>\n",
       "      <th>20636</th>\n",
       "      <td>2.5568</td>\n",
       "      <td>18.0</td>\n",
       "      <td>6.114035</td>\n",
       "      <td>1.315789</td>\n",
       "      <td>356.0</td>\n",
       "      <td>3.122807</td>\n",
       "      <td>39.49</td>\n",
       "      <td>-121.21</td>\n",
       "      <td>0.771</td>\n",
       "    </tr>\n",
       "    <tr>\n",
       "      <th>20637</th>\n",
       "      <td>1.7000</td>\n",
       "      <td>17.0</td>\n",
       "      <td>5.205543</td>\n",
       "      <td>1.120092</td>\n",
       "      <td>1007.0</td>\n",
       "      <td>2.325635</td>\n",
       "      <td>39.43</td>\n",
       "      <td>-121.22</td>\n",
       "      <td>0.923</td>\n",
       "    </tr>\n",
       "    <tr>\n",
       "      <th>20638</th>\n",
       "      <td>1.8672</td>\n",
       "      <td>18.0</td>\n",
       "      <td>5.329513</td>\n",
       "      <td>1.171920</td>\n",
       "      <td>741.0</td>\n",
       "      <td>2.123209</td>\n",
       "      <td>39.43</td>\n",
       "      <td>-121.32</td>\n",
       "      <td>0.847</td>\n",
       "    </tr>\n",
       "    <tr>\n",
       "      <th>20639</th>\n",
       "      <td>2.3886</td>\n",
       "      <td>16.0</td>\n",
       "      <td>5.254717</td>\n",
       "      <td>1.162264</td>\n",
       "      <td>1387.0</td>\n",
       "      <td>2.616981</td>\n",
       "      <td>39.37</td>\n",
       "      <td>-121.24</td>\n",
       "      <td>0.894</td>\n",
       "    </tr>\n",
       "  </tbody>\n",
       "</table>\n",
       "<p>20640 rows × 9 columns</p>\n",
       "</div>"
      ],
      "text/plain": [
       "       MedInc  HouseAge  AveRooms  AveBedrms  Population  AveOccup  Latitude  \\\n",
       "0      8.3252      41.0  6.984127   1.023810       322.0  2.555556     37.88   \n",
       "1      8.3014      21.0  6.238137   0.971880      2401.0  2.109842     37.86   \n",
       "2      7.2574      52.0  8.288136   1.073446       496.0  2.802260     37.85   \n",
       "3      5.6431      52.0  5.817352   1.073059       558.0  2.547945     37.85   \n",
       "4      3.8462      52.0  6.281853   1.081081       565.0  2.181467     37.85   \n",
       "...       ...       ...       ...        ...         ...       ...       ...   \n",
       "20635  1.5603      25.0  5.045455   1.133333       845.0  2.560606     39.48   \n",
       "20636  2.5568      18.0  6.114035   1.315789       356.0  3.122807     39.49   \n",
       "20637  1.7000      17.0  5.205543   1.120092      1007.0  2.325635     39.43   \n",
       "20638  1.8672      18.0  5.329513   1.171920       741.0  2.123209     39.43   \n",
       "20639  2.3886      16.0  5.254717   1.162264      1387.0  2.616981     39.37   \n",
       "\n",
       "       Longitude  MedHouseVal  \n",
       "0        -122.23        4.526  \n",
       "1        -122.22        3.585  \n",
       "2        -122.24        3.521  \n",
       "3        -122.25        3.413  \n",
       "4        -122.25        3.422  \n",
       "...          ...          ...  \n",
       "20635    -121.09        0.781  \n",
       "20636    -121.21        0.771  \n",
       "20637    -121.22        0.923  \n",
       "20638    -121.32        0.847  \n",
       "20639    -121.24        0.894  \n",
       "\n",
       "[20640 rows x 9 columns]"
      ]
     },
     "execution_count": 44,
     "metadata": {},
     "output_type": "execute_result"
    }
   ],
   "source": [
    "housing"
   ]
  },
  {
   "cell_type": "code",
   "execution_count": 45,
   "metadata": {},
   "outputs": [
    {
     "data": {
      "text/plain": [
       "<AxesSubplot:xlabel='MedHouseVal', ylabel='Density'>"
      ]
     },
     "execution_count": 45,
     "metadata": {},
     "output_type": "execute_result"
    },
    {
     "data": {
      "image/png": "[encoded data removed]",
      "text/plain": [
       "<Figure size 432x288 with 1 Axes>"
      ]
     },
     "metadata": {
      "needs_background": "light"
     },
     "output_type": "display_data"
    }
   ],
   "source": [
    "sns.distplot(housing.iloc[:,-1])"
   ]
  },
  {
   "cell_type": "markdown",
   "metadata": {},
   "source": [
    "# JaccardForestKernel\n",
    "> uses forest node embeddings and jaccard similarity to sample points"
   ]
  },
  {
   "cell_type": "code",
   "execution_count": 46,
   "metadata": {},
   "outputs": [],
   "source": [
    "from sklearn.ensemble import ExtraTreesRegressor, RandomForestRegressor, ExtraTreesClassifier, RandomForestClassifier, RandomTreesEmbedding, IsolationForest\n",
    "from sklearn.model_selection import train_test_split\n",
    "\n",
    "learner = JaccardForestKernel(\n",
    "    RandomTreesEmbedding(500, n_jobs = -1),\n",
    "    fit_neighbors_index = True,\n",
    "    verbose = True\n",
    ")"
   ]
  },
  {
   "cell_type": "code",
   "execution_count": 47,
   "metadata": {},
   "outputs": [],
   "source": [
    "housing_train, housing_test = train_test_split(housing, train_size = 0.8)"
   ]
  },
  {
   "cell_type": "code",
   "execution_count": 48,
   "metadata": {},
   "outputs": [
    {
     "data": {
      "text/plain": [
       "JaccardForestKernel(estimator=RandomTreesEmbedding(n_estimators=500, n_jobs=-1),\n",
       "                    verbose=True)"
      ]
     },
     "execution_count": 48,
     "metadata": {},
     "output_type": "execute_result"
    }
   ],
   "source": [
    "learner.fit(\n",
    "    housing_train[numerical_cols],\n",
    "    housing_train[target_col],\n",
    "    save_values = housing_train\n",
    ")"
   ]
  },
  {
   "cell_type": "code",
   "execution_count": 49,
   "metadata": {},
   "outputs": [
    {
     "name": "stdout",
     "output_type": "stream",
     "text": [
      "kNN time total=2.079202 (sec), per query=0.000504 (sec), per query adjusted for thread number=0.002015 (sec)\n"
     ]
    }
   ],
   "source": [
    "queries = learner.query(housing_test[numerical_cols])"
   ]
  },
  {
   "cell_type": "code",
   "execution_count": 50,
   "metadata": {},
   "outputs": [
    {
     "data": {
      "text/plain": [
       "<matplotlib.lines.Line2D at 0x1f805779108>"
      ]
     },
     "execution_count": 50,
     "metadata": {},
     "output_type": "execute_result"
    },
    {
     "data": {
      "image/png": "[encoded data removed]",
      "text/plain": [
       "<Figure size 432x288 with 1 Axes>"
      ]
     },
     "metadata": {
      "needs_background": "light"
     },
     "output_type": "display_data"
    }
   ],
   "source": [
    "import numpy as np\n",
    "import matplotlib.pyplot as plt\n",
    "\n",
    "idx = np.random.choice(len(housing_test))\n",
    "q = queries[0][idx]\n",
    "q['similarity'] = queries[1][idx]\n",
    "\n",
    "sns.distplot(q[target_col])\n",
    "plt.axvline(housing_test.iloc[idx][target_col], color = 'r')\n"
   ]
  },
  {
   "cell_type": "code",
   "execution_count": 51,
   "metadata": {},
   "outputs": [
    {
     "data": {
      "text/html": [
       "<div>\n",
       "<style scoped>\n",
       "    .dataframe tbody tr th:only-of-type {\n",
       "        vertical-align: middle;\n",
       "    }\n",
       "\n",
       "    .dataframe tbody tr th {\n",
       "        vertical-align: top;\n",
       "    }\n",
       "\n",
       "    .dataframe thead th {\n",
       "        text-align: right;\n",
       "    }\n",
       "</style>\n",
       "<table border=\"1\" class=\"dataframe\">\n",
       "  <thead>\n",
       "    <tr style=\"text-align: right;\">\n",
       "      <th></th>\n",
       "      <th>MedInc</th>\n",
       "      <th>HouseAge</th>\n",
       "      <th>AveRooms</th>\n",
       "      <th>AveBedrms</th>\n",
       "      <th>Population</th>\n",
       "      <th>AveOccup</th>\n",
       "      <th>Latitude</th>\n",
       "      <th>Longitude</th>\n",
       "      <th>MedHouseVal</th>\n",
       "      <th>similarity</th>\n",
       "    </tr>\n",
       "  </thead>\n",
       "  <tbody>\n",
       "    <tr>\n",
       "      <th>20086</th>\n",
       "      <td>2.5170</td>\n",
       "      <td>23.0</td>\n",
       "      <td>5.101604</td>\n",
       "      <td>1.024064</td>\n",
       "      <td>984.0</td>\n",
       "      <td>2.631016</td>\n",
       "      <td>37.99</td>\n",
       "      <td>-120.30</td>\n",
       "      <td>1.535</td>\n",
       "      <td>0.872659</td>\n",
       "    </tr>\n",
       "    <tr>\n",
       "      <th>9434</th>\n",
       "      <td>1.7614</td>\n",
       "      <td>25.0</td>\n",
       "      <td>5.194346</td>\n",
       "      <td>1.204947</td>\n",
       "      <td>706.0</td>\n",
       "      <td>2.494700</td>\n",
       "      <td>37.53</td>\n",
       "      <td>-120.19</td>\n",
       "      <td>0.713</td>\n",
       "      <td>0.855288</td>\n",
       "    </tr>\n",
       "    <tr>\n",
       "      <th>19585</th>\n",
       "      <td>2.3906</td>\n",
       "      <td>27.0</td>\n",
       "      <td>5.270270</td>\n",
       "      <td>1.022523</td>\n",
       "      <td>660.0</td>\n",
       "      <td>2.972973</td>\n",
       "      <td>37.59</td>\n",
       "      <td>-120.69</td>\n",
       "      <td>0.818</td>\n",
       "      <td>0.838235</td>\n",
       "    </tr>\n",
       "    <tr>\n",
       "      <th>20072</th>\n",
       "      <td>1.6021</td>\n",
       "      <td>29.0</td>\n",
       "      <td>4.560000</td>\n",
       "      <td>1.074545</td>\n",
       "      <td>1112.0</td>\n",
       "      <td>2.021818</td>\n",
       "      <td>37.98</td>\n",
       "      <td>-120.37</td>\n",
       "      <td>0.914</td>\n",
       "      <td>0.831502</td>\n",
       "    </tr>\n",
       "    <tr>\n",
       "      <th>19582</th>\n",
       "      <td>2.0385</td>\n",
       "      <td>25.0</td>\n",
       "      <td>5.021875</td>\n",
       "      <td>1.065625</td>\n",
       "      <td>2319.0</td>\n",
       "      <td>3.623438</td>\n",
       "      <td>37.65</td>\n",
       "      <td>-120.76</td>\n",
       "      <td>0.843</td>\n",
       "      <td>0.831502</td>\n",
       "    </tr>\n",
       "    <tr>\n",
       "      <th>9578</th>\n",
       "      <td>1.8939</td>\n",
       "      <td>28.0</td>\n",
       "      <td>5.711640</td>\n",
       "      <td>1.100529</td>\n",
       "      <td>1283.0</td>\n",
       "      <td>3.394180</td>\n",
       "      <td>37.26</td>\n",
       "      <td>-120.49</td>\n",
       "      <td>0.830</td>\n",
       "      <td>0.831502</td>\n",
       "    </tr>\n",
       "    <tr>\n",
       "      <th>19391</th>\n",
       "      <td>2.2679</td>\n",
       "      <td>25.0</td>\n",
       "      <td>3.971698</td>\n",
       "      <td>0.962264</td>\n",
       "      <td>303.0</td>\n",
       "      <td>2.858491</td>\n",
       "      <td>37.78</td>\n",
       "      <td>-120.85</td>\n",
       "      <td>0.713</td>\n",
       "      <td>0.821494</td>\n",
       "    </tr>\n",
       "    <tr>\n",
       "      <th>16399</th>\n",
       "      <td>2.4688</td>\n",
       "      <td>25.0</td>\n",
       "      <td>4.838816</td>\n",
       "      <td>0.986842</td>\n",
       "      <td>721.0</td>\n",
       "      <td>2.371711</td>\n",
       "      <td>38.00</td>\n",
       "      <td>-121.24</td>\n",
       "      <td>1.268</td>\n",
       "      <td>0.814882</td>\n",
       "    </tr>\n",
       "    <tr>\n",
       "      <th>20116</th>\n",
       "      <td>2.4922</td>\n",
       "      <td>19.0</td>\n",
       "      <td>5.238722</td>\n",
       "      <td>1.086466</td>\n",
       "      <td>1208.0</td>\n",
       "      <td>2.270677</td>\n",
       "      <td>37.95</td>\n",
       "      <td>-120.42</td>\n",
       "      <td>0.987</td>\n",
       "      <td>0.805054</td>\n",
       "    </tr>\n",
       "    <tr>\n",
       "      <th>9656</th>\n",
       "      <td>2.2794</td>\n",
       "      <td>23.0</td>\n",
       "      <td>5.763415</td>\n",
       "      <td>1.095122</td>\n",
       "      <td>1168.0</td>\n",
       "      <td>2.848780</td>\n",
       "      <td>36.99</td>\n",
       "      <td>-120.64</td>\n",
       "      <td>0.757</td>\n",
       "      <td>0.801802</td>\n",
       "    </tr>\n",
       "  </tbody>\n",
       "</table>\n",
       "</div>"
      ],
      "text/plain": [
       "       MedInc  HouseAge  AveRooms  AveBedrms  Population  AveOccup  Latitude  \\\n",
       "20086  2.5170      23.0  5.101604   1.024064       984.0  2.631016     37.99   \n",
       "9434   1.7614      25.0  5.194346   1.204947       706.0  2.494700     37.53   \n",
       "19585  2.3906      27.0  5.270270   1.022523       660.0  2.972973     37.59   \n",
       "20072  1.6021      29.0  4.560000   1.074545      1112.0  2.021818     37.98   \n",
       "19582  2.0385      25.0  5.021875   1.065625      2319.0  3.623438     37.65   \n",
       "9578   1.8939      28.0  5.711640   1.100529      1283.0  3.394180     37.26   \n",
       "19391  2.2679      25.0  3.971698   0.962264       303.0  2.858491     37.78   \n",
       "16399  2.4688      25.0  4.838816   0.986842       721.0  2.371711     38.00   \n",
       "20116  2.4922      19.0  5.238722   1.086466      1208.0  2.270677     37.95   \n",
       "9656   2.2794      23.0  5.763415   1.095122      1168.0  2.848780     36.99   \n",
       "\n",
       "       Longitude  MedHouseVal  similarity  \n",
       "20086    -120.30        1.535    0.872659  \n",
       "9434     -120.19        0.713    0.855288  \n",
       "19585    -120.69        0.818    0.838235  \n",
       "20072    -120.37        0.914    0.831502  \n",
       "19582    -120.76        0.843    0.831502  \n",
       "9578     -120.49        0.830    0.831502  \n",
       "19391    -120.85        0.713    0.821494  \n",
       "16399    -121.24        1.268    0.814882  \n",
       "20116    -120.42        0.987    0.805054  \n",
       "9656     -120.64        0.757    0.801802  "
      ]
     },
     "execution_count": 51,
     "metadata": {},
     "output_type": "execute_result"
    }
   ],
   "source": [
    "q[:10]"
   ]
  },
  {
   "cell_type": "code",
   "execution_count": 52,
   "metadata": {},
   "outputs": [],
   "source": [
    "#kng = learner.kneighbors_graph(mode = 'similarity')"
   ]
  },
  {
   "cell_type": "markdown",
   "metadata": {},
   "source": [
    "# DiscretizedTargetKernel\n",
    "> conditional target distribution could be bimodal, making regular regression faill. discretizing and running a classification might help"
   ]
  },
  {
   "cell_type": "code",
   "execution_count": 53,
   "metadata": {},
   "outputs": [],
   "source": [
    "from sklearn.linear_model import LogisticRegression\n",
    "from sklearn.pipeline import make_pipeline\n",
    "from sklearn.preprocessing import RobustScaler"
   ]
  },
  {
   "cell_type": "code",
   "execution_count": 54,
   "metadata": {},
   "outputs": [],
   "source": [
    "disc_learner = DiscretizedTargetKernel(\n",
    "    estimator = make_pipeline(RobustScaler(), LogisticRegression()),\n",
    "    n_bins = 15,\n",
    "    strategy = 'uniform'\n",
    ")\n"
   ]
  },
  {
   "cell_type": "code",
   "execution_count": 55,
   "metadata": {},
   "outputs": [
    {
     "data": {
      "text/plain": [
       "DiscretizedTargetKernel(estimator=Pipeline(steps=[('robustscaler',\n",
       "                                                   RobustScaler()),\n",
       "                                                  ('logisticregression',\n",
       "                                                   LogisticRegression())]),\n",
       "                        n_bins=15, strategy='uniform')"
      ]
     },
     "execution_count": 55,
     "metadata": {},
     "output_type": "execute_result"
    }
   ],
   "source": [
    "disc_learner.fit(\n",
    "    housing_train[numerical_cols],\n",
    "    housing_train[[target_col]],\n",
    "    save_values = housing_train\n",
    ")"
   ]
  },
  {
   "cell_type": "code",
   "execution_count": 56,
   "metadata": {},
   "outputs": [],
   "source": [
    "disc_queries = disc_learner.query(housing_test[numerical_cols])"
   ]
  },
  {
   "cell_type": "code",
   "execution_count": 57,
   "metadata": {},
   "outputs": [
    {
     "data": {
      "text/plain": [
       "<matplotlib.lines.Line2D at 0x1f8024eb5c8>"
      ]
     },
     "execution_count": 57,
     "metadata": {},
     "output_type": "execute_result"
    },
    {
     "data": {
      "image/png": "[encoded data removed]",
      "text/plain": [
       "<Figure size 432x288 with 1 Axes>"
      ]
     },
     "metadata": {
      "needs_background": "light"
     },
     "output_type": "display_data"
    }
   ],
   "source": [
    "idx = np.random.choice(len(housing_test))\n",
    "q = disc_queries[0][idx]\n",
    "q['kldivergence'] = disc_queries[1][idx]\n",
    "\n",
    "sns.distplot(q[target_col])\n",
    "plt.axvline(housing_test.iloc[idx][target_col], color = 'r')\n"
   ]
  },
  {
   "cell_type": "code",
   "execution_count": 58,
   "metadata": {},
   "outputs": [
    {
     "data": {
      "text/html": [
       "<div>\n",
       "<style scoped>\n",
       "    .dataframe tbody tr th:only-of-type {\n",
       "        vertical-align: middle;\n",
       "    }\n",
       "\n",
       "    .dataframe tbody tr th {\n",
       "        vertical-align: top;\n",
       "    }\n",
       "\n",
       "    .dataframe thead th {\n",
       "        text-align: right;\n",
       "    }\n",
       "</style>\n",
       "<table border=\"1\" class=\"dataframe\">\n",
       "  <thead>\n",
       "    <tr style=\"text-align: right;\">\n",
       "      <th></th>\n",
       "      <th>MedInc</th>\n",
       "      <th>HouseAge</th>\n",
       "      <th>AveRooms</th>\n",
       "      <th>AveBedrms</th>\n",
       "      <th>Population</th>\n",
       "      <th>AveOccup</th>\n",
       "      <th>Latitude</th>\n",
       "      <th>Longitude</th>\n",
       "      <th>MedHouseVal</th>\n",
       "      <th>kldivergence</th>\n",
       "    </tr>\n",
       "  </thead>\n",
       "  <tbody>\n",
       "    <tr>\n",
       "      <th>1293</th>\n",
       "      <td>5.3245</td>\n",
       "      <td>8.0</td>\n",
       "      <td>5.987374</td>\n",
       "      <td>0.946970</td>\n",
       "      <td>1094.0</td>\n",
       "      <td>2.762626</td>\n",
       "      <td>38.00</td>\n",
       "      <td>-121.78</td>\n",
       "      <td>1.745</td>\n",
       "      <td>0.001972</td>\n",
       "    </tr>\n",
       "    <tr>\n",
       "      <th>1703</th>\n",
       "      <td>4.4911</td>\n",
       "      <td>20.0</td>\n",
       "      <td>5.906897</td>\n",
       "      <td>1.089655</td>\n",
       "      <td>1512.0</td>\n",
       "      <td>2.606897</td>\n",
       "      <td>37.97</td>\n",
       "      <td>-122.29</td>\n",
       "      <td>2.274</td>\n",
       "      <td>0.002050</td>\n",
       "    </tr>\n",
       "    <tr>\n",
       "      <th>19315</th>\n",
       "      <td>4.6705</td>\n",
       "      <td>19.0</td>\n",
       "      <td>6.389610</td>\n",
       "      <td>1.136364</td>\n",
       "      <td>852.0</td>\n",
       "      <td>2.766234</td>\n",
       "      <td>38.43</td>\n",
       "      <td>-122.91</td>\n",
       "      <td>2.698</td>\n",
       "      <td>0.002919</td>\n",
       "    </tr>\n",
       "    <tr>\n",
       "      <th>9341</th>\n",
       "      <td>4.1098</td>\n",
       "      <td>21.0</td>\n",
       "      <td>4.895323</td>\n",
       "      <td>1.028953</td>\n",
       "      <td>1100.0</td>\n",
       "      <td>2.449889</td>\n",
       "      <td>38.00</td>\n",
       "      <td>-122.60</td>\n",
       "      <td>2.466</td>\n",
       "      <td>0.003284</td>\n",
       "    </tr>\n",
       "    <tr>\n",
       "      <th>18397</th>\n",
       "      <td>4.5221</td>\n",
       "      <td>16.0</td>\n",
       "      <td>6.125000</td>\n",
       "      <td>1.159091</td>\n",
       "      <td>667.0</td>\n",
       "      <td>2.526515</td>\n",
       "      <td>37.22</td>\n",
       "      <td>-121.77</td>\n",
       "      <td>1.911</td>\n",
       "      <td>0.003692</td>\n",
       "    </tr>\n",
       "    <tr>\n",
       "      <th>1501</th>\n",
       "      <td>4.6602</td>\n",
       "      <td>22.0</td>\n",
       "      <td>5.767123</td>\n",
       "      <td>0.969863</td>\n",
       "      <td>993.0</td>\n",
       "      <td>2.720548</td>\n",
       "      <td>37.94</td>\n",
       "      <td>-122.05</td>\n",
       "      <td>2.278</td>\n",
       "      <td>0.003958</td>\n",
       "    </tr>\n",
       "    <tr>\n",
       "      <th>9763</th>\n",
       "      <td>4.2500</td>\n",
       "      <td>28.0</td>\n",
       "      <td>5.653295</td>\n",
       "      <td>0.982808</td>\n",
       "      <td>970.0</td>\n",
       "      <td>2.779370</td>\n",
       "      <td>36.47</td>\n",
       "      <td>-121.74</td>\n",
       "      <td>2.791</td>\n",
       "      <td>0.004107</td>\n",
       "    </tr>\n",
       "    <tr>\n",
       "      <th>18658</th>\n",
       "      <td>4.2006</td>\n",
       "      <td>24.0</td>\n",
       "      <td>5.972222</td>\n",
       "      <td>1.115079</td>\n",
       "      <td>1360.0</td>\n",
       "      <td>2.698413</td>\n",
       "      <td>36.98</td>\n",
       "      <td>-121.94</td>\n",
       "      <td>2.907</td>\n",
       "      <td>0.005113</td>\n",
       "    </tr>\n",
       "    <tr>\n",
       "      <th>19316</th>\n",
       "      <td>4.5110</td>\n",
       "      <td>22.0</td>\n",
       "      <td>5.631068</td>\n",
       "      <td>1.044660</td>\n",
       "      <td>1445.0</td>\n",
       "      <td>2.805825</td>\n",
       "      <td>38.40</td>\n",
       "      <td>-122.89</td>\n",
       "      <td>2.968</td>\n",
       "      <td>0.005502</td>\n",
       "    </tr>\n",
       "    <tr>\n",
       "      <th>19160</th>\n",
       "      <td>5.1966</td>\n",
       "      <td>15.0</td>\n",
       "      <td>6.426866</td>\n",
       "      <td>1.029851</td>\n",
       "      <td>979.0</td>\n",
       "      <td>2.922388</td>\n",
       "      <td>38.34</td>\n",
       "      <td>-122.63</td>\n",
       "      <td>3.254</td>\n",
       "      <td>0.005503</td>\n",
       "    </tr>\n",
       "  </tbody>\n",
       "</table>\n",
       "</div>"
      ],
      "text/plain": [
       "       MedInc  HouseAge  AveRooms  AveBedrms  Population  AveOccup  Latitude  \\\n",
       "1293   5.3245       8.0  5.987374   0.946970      1094.0  2.762626     38.00   \n",
       "1703   4.4911      20.0  5.906897   1.089655      1512.0  2.606897     37.97   \n",
       "19315  4.6705      19.0  6.389610   1.136364       852.0  2.766234     38.43   \n",
       "9341   4.1098      21.0  4.895323   1.028953      1100.0  2.449889     38.00   \n",
       "18397  4.5221      16.0  6.125000   1.159091       667.0  2.526515     37.22   \n",
       "1501   4.6602      22.0  5.767123   0.969863       993.0  2.720548     37.94   \n",
       "9763   4.2500      28.0  5.653295   0.982808       970.0  2.779370     36.47   \n",
       "18658  4.2006      24.0  5.972222   1.115079      1360.0  2.698413     36.98   \n",
       "19316  4.5110      22.0  5.631068   1.044660      1445.0  2.805825     38.40   \n",
       "19160  5.1966      15.0  6.426866   1.029851       979.0  2.922388     38.34   \n",
       "\n",
       "       Longitude  MedHouseVal  kldivergence  \n",
       "1293     -121.78        1.745      0.001972  \n",
       "1703     -122.29        2.274      0.002050  \n",
       "19315    -122.91        2.698      0.002919  \n",
       "9341     -122.60        2.466      0.003284  \n",
       "18397    -121.77        1.911      0.003692  \n",
       "1501     -122.05        2.278      0.003958  \n",
       "9763     -121.74        2.791      0.004107  \n",
       "18658    -121.94        2.907      0.005113  \n",
       "19316    -122.89        2.968      0.005502  \n",
       "19160    -122.63        3.254      0.005503  "
      ]
     },
     "execution_count": 58,
     "metadata": {},
     "output_type": "execute_result"
    }
   ],
   "source": [
    "q[:10]"
   ]
  },
  {
   "cell_type": "markdown",
   "metadata": {},
   "source": [
    "# Clustering"
   ]
  },
  {
   "cell_type": "code",
   "execution_count": 59,
   "metadata": {},
   "outputs": [],
   "source": [
    "from sklearn.datasets import make_moons, make_blobs"
   ]
  },
  {
   "cell_type": "code",
   "execution_count": 60,
   "metadata": {},
   "outputs": [
    {
     "data": {
      "text/plain": [
       "<AxesSubplot:>"
      ]
     },
     "execution_count": 60,
     "metadata": {},
     "output_type": "execute_result"
    },
    {
     "data": {
      "image/png": "[encoded data removed]",
      "text/plain": [
       "<Figure size 432x288 with 1 Axes>"
      ]
     },
     "metadata": {
      "needs_background": "light"
     },
     "output_type": "display_data"
    }
   ],
   "source": [
    "npoints = 500\n",
    "nnoise = npoints//1\n",
    "range_ = 5\n",
    "moons, mlabels = make_moons(npoints//2, noise = 0.14)\n",
    "blobs, blabels = make_blobs(npoints//2,cluster_std = 0.2, center_box = (-range_,range_), random_state = 42)\n",
    "blabels = blabels + 2\n",
    "noise = np.random.uniform(-(range_+1), range_+1, (nnoise,2))\n",
    "nlabels = np.random.choice(range(blabels.max()), nnoise)\n",
    "\n",
    "data = np.vstack([moons, noise, blobs])\n",
    "labels = np.hstack([mlabels, nlabels, blabels])\n",
    "sns.scatterplot(*data.T, alpha = 1, hue = labels, palette = 'pastel')\n"
   ]
  },
  {
   "cell_type": "code",
   "execution_count": null,
   "metadata": {},
   "outputs": [],
   "source": []
  },
  {
   "cell_type": "code",
   "execution_count": 61,
   "metadata": {},
   "outputs": [
    {
     "data": {
      "text/plain": [
       "JaccardForestKernel(estimator=RandomForestClassifier(min_samples_leaf=2,\n",
       "                                                     n_jobs=-1),\n",
       "                    fit_neighbors_index=False)"
      ]
     },
     "execution_count": 61,
     "metadata": {},
     "output_type": "execute_result"
    }
   ],
   "source": [
    "from sklearn.preprocessing import QuantileTransformer\n",
    "isof = IsolationForest().fit(data)\n",
    "iso_score_raw = isof.decision_function(data).reshape(-1,1)\n",
    "isof_quant = QuantileTransformer()\n",
    "isof_quant.fit(iso_score_raw)\n",
    "\n",
    "iso_score_raw = iso_score_raw.reshape(-1,1)\n",
    "\n",
    "def isof_to_weights(data, isof, isof_quant):\n",
    "    iso_score_raw = isof.decision_function(data).reshape(-1,1)\n",
    "    return np.where(iso_score_raw > 0, np.ones(iso_score_raw.shape), isof_quant.transform(iso_score_raw))\n",
    "\n",
    "\n",
    "iso_score = isof_to_weights(data, isof, isof_quant)\n",
    "\n",
    "clst = JaccardForestKernel(\n",
    "    RandomForestClassifier(\n",
    "        100,\n",
    "        max_depth = None,\n",
    "        min_samples_leaf = 2,\n",
    "        n_jobs = -1,                \n",
    "    ),\n",
    "    fit_neighbors_index = False\n",
    ")\n",
    "\n",
    "clst.fit(data, labels)"
   ]
  },
  {
   "cell_type": "markdown",
   "metadata": {},
   "source": [
    "# Louvain Space Partition"
   ]
  },
  {
   "cell_type": "code",
   "execution_count": 62,
   "metadata": {},
   "outputs": [],
   "source": [
    "from sklearn.ensemble import IsolationForest\n",
    "from sknetwork.embedding import GSVD, Spectral, SVD, PCA, RandomProjection, LouvainEmbedding, LouvainNE, ForceAtlas\n",
    "from sknetwork.clustering import Louvain, PropagationClustering, KMeans\n",
    "from sknetwork.ranking import PageRank\n",
    "from sklearn.decomposition import TruncatedSVD\n",
    "from sklearn.cluster import dbscan\n",
    "from sklearn.preprocessing import QuantileTransformer\n",
    "from karateclub import BigClam\n",
    "import hdbscan\n",
    "\n",
    "#kng = clst.kneighbors_graph()\n",
    "#kng = kng.multiply(1/kng.sum(axis = 1)).tocsr()\n",
    "#embs = Louvain().fit_transform(kng)\n",
    "#embeder = LouvainEmbedding(n_aggregations = -1).fit(clst.transform(data))\n",
    "\n",
    "#clusters = Louvain(1).fit(clst.transform(data))\n",
    "\n",
    "\n",
    "#iso_score = np.exp(iso_score_raw.reshape(-1,1))\n",
    "\n",
    "#rank = PageRank().fit(clst.transform(data).multiply(iso_score).tocsr())\n",
    "#embeder = LouvainEmbedding(1).fit(clst.transform(data))\n",
    "embeder = Louvain(1).fit(clst.transform(data))\n",
    "#embeder = LouvainEmbedding(1).fit(clst.transform(data).multiply(iso_score.reshape(-1,1)).tocsr())\n",
    "#embeder = LouvainEmbedding(2).fit(clst.transform(data).multiply(rank.scores_col_.reshape(1,-1)).tocsr())\n",
    "#clusters = Louvain(1).fit(kng)\n",
    "#embeder = LouvainEmbedding().fit(kng)\n",
    "\n",
    "#db = hdbscan.HDBSCAN().fit(data)\n",
    "#db = db.labels_\n",
    "\n",
    "#embeder = TruncatedSVD().fit(learner.transform(housing_train[numerical_cols]))"
   ]
  },
  {
   "cell_type": "code",
   "execution_count": 63,
   "metadata": {},
   "outputs": [
    {
     "ename": "NameError",
     "evalue": "name 'awesome_cossim_topn' is not defined",
     "output_type": "error",
     "traceback": [
      "\u001b[1;31m---------------------------------------------------------------------------\u001b[0m",
      "\u001b[1;31mNameError\u001b[0m                                 Traceback (most recent call last)",
      "\u001b[1;32mC:\\Users\\USERAM~1\\AppData\\Local\\Temp/ipykernel_5100/2987387228.py\u001b[0m in \u001b[0;36m<module>\u001b[1;34m\u001b[0m\n\u001b[1;32m----> 1\u001b[1;33m \u001b[0membs\u001b[0m \u001b[1;33m=\u001b[0m \u001b[0mawesome_cossim_topn\u001b[0m\u001b[1;33m(\u001b[0m\u001b[0mclst\u001b[0m\u001b[1;33m.\u001b[0m\u001b[0mtransform\u001b[0m\u001b[1;33m(\u001b[0m\u001b[0mdata\u001b[0m\u001b[1;33m)\u001b[0m\u001b[1;33m,\u001b[0m \u001b[0msparse\u001b[0m\u001b[1;33m.\u001b[0m\u001b[0mcsr_matrix\u001b[0m\u001b[1;33m(\u001b[0m\u001b[0membeder\u001b[0m\u001b[1;33m.\u001b[0m\u001b[0membedding_col_\u001b[0m\u001b[1;33m)\u001b[0m\u001b[1;33m,\u001b[0m \u001b[0membeder\u001b[0m\u001b[1;33m.\u001b[0m\u001b[0membedding_col_\u001b[0m\u001b[1;33m.\u001b[0m\u001b[0mshape\u001b[0m\u001b[1;33m[\u001b[0m\u001b[1;33m-\u001b[0m\u001b[1;36m1\u001b[0m\u001b[1;33m]\u001b[0m\u001b[1;33m,\u001b[0m \u001b[0mlower_bound\u001b[0m \u001b[1;33m=\u001b[0m \u001b[1;36m0\u001b[0m\u001b[1;33m)\u001b[0m\u001b[1;33m.\u001b[0m\u001b[0mA\u001b[0m\u001b[1;33m/\u001b[0m\u001b[1;36m100\u001b[0m\u001b[1;33m\u001b[0m\u001b[1;33m\u001b[0m\u001b[0m\n\u001b[0m",
      "\u001b[1;31mNameError\u001b[0m: name 'awesome_cossim_topn' is not defined"
     ]
    }
   ],
   "source": [
    "embs = awesome_cossim_topn(clst.transform(data), sparse.csr_matrix(embeder.embedding_col_), embeder.embedding_col_.shape[-1], lower_bound = 0).A/100"
   ]
  },
  {
   "cell_type": "code",
   "execution_count": null,
   "metadata": {},
   "outputs": [],
   "source": [
    "sns.distplot(embs.max(1)[iso_score.flatten() == 1])\n",
    "sns.distplot(embs.max(1)[iso_score.flatten() < 1])"
   ]
  },
  {
   "cell_type": "code",
   "execution_count": null,
   "metadata": {},
   "outputs": [],
   "source": []
  },
  {
   "cell_type": "code",
   "execution_count": null,
   "metadata": {},
   "outputs": [],
   "source": [
    "embeder.embedding_col_.shape"
   ]
  },
  {
   "cell_type": "code",
   "execution_count": null,
   "metadata": {},
   "outputs": [],
   "source": [
    "from sklearn.preprocessing import OneHotEncoder\n",
    "from scipy import sparse\n",
    "\n",
    "test_data = data#np.random.uniform(-(range_+3), range_+3, (10000,2))\n",
    "\n",
    "embs = sparse_dot_product(clst.transform(test_data), sparse.csr_matrix(embeder.embedding_col_), 100)\n",
    "#clusters = OneHotEncoder().fit_transform(np.argmax(embs, 1).reshape(-1,1))\n",
    "clusters = np.argmax(embs, 1).A.flatten()\n",
    "#embs = embeder.embedding_\n",
    "embs = embs/embs.sum(axis = 1).reshape(-1,1)\n",
    "embs = embs.A\n",
    "#sns.distplot(embs)"
   ]
  },
  {
   "cell_type": "code",
   "execution_count": null,
   "metadata": {},
   "outputs": [],
   "source": [
    "#%%timeit\n",
    "from scipy.stats import entropy\n",
    "iso_score_test = isof_to_weights(test_data, isof, isof_quant)\n",
    "\n",
    "msk = clusters == 3\n",
    "louvain_labels = embs.argmax(1)\n",
    "entropies = -np.exp(entropy(embs ,axis = 1))\n",
    "entropies = embs.max(1).flatten()\n",
    "entropies = (entropies - entropies.min())/(entropies.max() - entropies.min())\n",
    "\n",
    "\n",
    "\n",
    "sns.scatterplot(\n",
    "    *test_data.T,\n",
    "    hue = louvain_labels,\n",
    "    palette = 'tab20',\n",
    "    #hue = embs.max(1) < 0.8,    \n",
    "    alpha = embs.max(1),\n",
    "    \n",
    ")\n",
    "#sns.scatterplot(\n",
    "#    *data.T,        \n",
    "#    alpha = 1\n",
    "#)\n"
   ]
  },
  {
   "cell_type": "markdown",
   "metadata": {},
   "source": [
    "# Leiden Space Partition"
   ]
  },
  {
   "cell_type": "code",
   "execution_count": null,
   "metadata": {},
   "outputs": [],
   "source": [
    "len(list(nx.algorithms.connected_components(G)))"
   ]
  },
  {
   "cell_type": "code",
   "execution_count": null,
   "metadata": {},
   "outputs": [],
   "source": [
    "import csrgraph as cg\n",
    "import networkx as nx\n",
    "from sknetwork.utils import bipartite2undirected, bipartite2directed\n",
    "from cdlib.algorithms import leiden\n",
    "G = bipartite2undirected(clst.transform(data), )\n",
    "G = nx.from_scipy_sparse_matrix(G)\n",
    "#G = cg.csrgraph(G)\n",
    "bigc = leiden(G)\n",
    "#bigc.fit(G)"
   ]
  },
  {
   "cell_type": "code",
   "execution_count": null,
   "metadata": {},
   "outputs": [],
   "source": [
    "clusters_leiden = np.vstack([np.hstack([np.array(bigc.communities[i]).reshape(-1,1), np.ones((len(bigc.communities[i]),1))*i]) for i in range(len(bigc.communities))]).astype(int)\n",
    "clusters_leiden = clusters_leiden[np.argsort(clusters_leiden[:,0])][:,1:2]\n",
    "clusters_leiden"
   ]
  },
  {
   "cell_type": "code",
   "execution_count": null,
   "metadata": {},
   "outputs": [],
   "source": [
    "#len(list(nx.algorithms.components.connected_components(nx.from_scipy_sparse_matrix(G))))"
   ]
  },
  {
   "cell_type": "code",
   "execution_count": null,
   "metadata": {},
   "outputs": [],
   "source": [
    "n_points, n_nodes = clst.transform(data).shape\n",
    "node_embs = clusters_leiden[n_points:]\n",
    "node_embs = OneHotEncoder().fit_transform(node_embs)"
   ]
  },
  {
   "cell_type": "code",
   "execution_count": null,
   "metadata": {},
   "outputs": [],
   "source": [
    "node_embs = awesome_cossim_topn(clst.transform(data), sparse.csr_matrix(node_embs), 100)\n",
    "node_embs = node_embs.A/100"
   ]
  },
  {
   "cell_type": "code",
   "execution_count": null,
   "metadata": {},
   "outputs": [],
   "source": [
    "node_embs.shape\n",
    "clusters = clusters_leiden[:n_points]"
   ]
  },
  {
   "cell_type": "code",
   "execution_count": null,
   "metadata": {},
   "outputs": [],
   "source": [
    "sns.distplot(node_embs.max(1))"
   ]
  },
  {
   "cell_type": "code",
   "execution_count": null,
   "metadata": {},
   "outputs": [],
   "source": [
    "#samples = G.random_walks(10, 30, [1,14], return_weight = 1.)\n",
    "#msk = samples <= n_points\n",
    "#samples = [i[i <= n_points] for i in samples]\n",
    "#samples = np.array(samples)\n",
    "#idx, cts = np.unique(samples, return_counts = True)\n",
    "#idx = idx\n",
    "#alpha = (cts - cts.min())/(cts.max() - cts.min())\n",
    "\n",
    "#sns.scatterplot(*data[idx].T, alpha = alpha)\n",
    "#plt.plot(*data[samples].T)\n",
    "sns.scatterplot(\n",
    "    *data.T,\n",
    "    alpha = node_embs.max(1),\n",
    "    palette = 'tab20',\n",
    "    #hue = node_embs.max(1) < .8,\n",
    "    hue = clusters.flatten(),\n",
    "    \n",
    ")"
   ]
  },
  {
   "cell_type": "code",
   "execution_count": null,
   "metadata": {},
   "outputs": [],
   "source": []
  }
 ],
 "metadata": {
  "kernelspec": {
   "display_name": "Python 3 (ipykernel)",
   "language": "python",
   "name": "python3"
  },
  "language_info": {
   "codemirror_mode": {
    "name": "ipython",
    "version": 3
   },
   "file_extension": ".py",
   "mimetype": "text/x-python",
   "name": "python",
   "nbconvert_exporter": "python",
   "pygments_lexer": "ipython3",
   "version": "3.7.12"
  }
 },
 "nbformat": 4,
 "nbformat_minor": 4
}
